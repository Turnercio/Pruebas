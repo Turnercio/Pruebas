{
 "cells": [
  {
   "cell_type": "code",
   "execution_count": null,
   "metadata": {},
   "outputs": [],
   "source": [
    "#código\n",
    "def celsius_to_farenheit(celsius):\n",
    "    \"\"\"\n",
    "    Converts celsius to farenheit\n",
    "    \"\"\"\n",
    "    f = (celsius * 9 / 5) + 32\n",
    "    return f\n",
    "\n",
    "#ejemplos / pruebas\n",
    "cels = 20\n",
    "calcs = 3\n",
    "cosa = 10\n",
    "\n",
    "\n",
    "#celsius_to_farenheit(cels)\n",
    "#celsius_to_farenheit(calcs)\n",
    "celsius_to_farenheit(cosa)\n",
    "\n"
   ]
  }
 ],
 "metadata": {
  "language_info": {
   "name": "python"
  }
 },
 "nbformat": 4,
 "nbformat_minor": 2
}
