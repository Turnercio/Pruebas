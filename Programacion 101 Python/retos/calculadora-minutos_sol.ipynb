{
 "cells": [
  {
   "cell_type": "markdown",
   "metadata": {},
   "source": [
    "# Reto de fin de semana\n",
    "\n",
    "## Enunciado\n",
    "\n",
    "**Parte 1.** Crea una función que imprima por pantalla las horas, minutos y segundos de un tiempo dado en segundos.\n",
    "\n",
    "**Parte 2.** Crea la función contraria, indicándole el número de horas, minutos y segundos y muestre el total de segundos\n"
   ]
  },
  {
   "cell_type": "markdown",
   "metadata": {},
   "source": [
    "## Ayuda a la implementación\n",
    "\n",
    "Recuerda que un minuto tiene 60 segundos, una hora tiene 60 minutos o lo que es lo mismo 3600 segundos.\n",
    "\n",
    "El resultado puedes devolverlo así.\n",
    "\n",
    "```\n",
    "return horas, minutos, segundos\n",
    "```"
   ]
  },
  {
   "cell_type": "markdown",
   "metadata": {},
   "source": [
    "# Datos de prueba\n",
    "Un ejemplo de cambio de segundos a horas:minutos y segundos:\n",
    "3761 -> 1:2:41\n",
    "Un ejemplo del cambio contrario:\n",
    "3:10:56 -> 11456"
   ]
  },
  {
   "cell_type": "code",
   "execution_count": 2,
   "metadata": {},
   "outputs": [
    {
     "name": "stdout",
     "output_type": "stream",
     "text": [
      "1:1:5\n",
      "Total: 3665 seconds\n"
     ]
    }
   ],
   "source": [
    "def format_seconds(seconds):\n",
    "    hours = seconds // 3600\n",
    "    seconds -= hours * 3600 # seconds = seconds - (hours * 3600)\n",
    "    minutes = seconds // 60\n",
    "    seconds -= minutes * 60 # seconds = seconds - (minutes * 60)\n",
    "    print(f\"{hours}:{minutes}:{seconds}\") # interpolación de cadenas\n",
    "    # hours + \":\" + minutes + \":\" + seconds\n",
    "format_seconds(3665)\n",
    "\n",
    "def time_to_seconds(hours, minutes, seconds):\n",
    "    total_seconds = hours * 3600 + minutes * 60 + seconds\n",
    "    print(f\"Total: {total_seconds} seconds\")\n",
    "\n",
    "time_to_seconds(1,1,5)"
   ]
  }
 ],
 "metadata": {
  "kernelspec": {
   "display_name": "Python 3",
   "language": "python",
   "name": "python3"
  },
  "language_info": {
   "codemirror_mode": {
    "name": "ipython",
    "version": 3
   },
   "file_extension": ".py",
   "mimetype": "text/x-python",
   "name": "python",
   "nbconvert_exporter": "python",
   "pygments_lexer": "ipython3",
   "version": "3.9.6"
  }
 },
 "nbformat": 4,
 "nbformat_minor": 2
}
