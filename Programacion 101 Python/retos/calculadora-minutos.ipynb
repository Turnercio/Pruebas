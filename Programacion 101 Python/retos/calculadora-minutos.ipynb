{
 "cells": [
  {
   "cell_type": "markdown",
   "metadata": {},
   "source": [
    "# Reto de fin de semana\n",
    "\n",
    "## Enunciado\n",
    "\n",
    "**Parte 1.** Crea una función que imprima por pantalla las horas, minutos y segundos de un tiempo dado en segundos.\n",
    "\n",
    "**Parte 2.** Crea la función contraria, indicándole el número de horas, minutos y segundos y muestre el total de segundos\n"
   ]
  },
  {
   "cell_type": "markdown",
   "metadata": {},
   "source": [
    "## Ayuda a la implementación\n",
    "\n",
    "Recuerda que un minuto tiene 60 segundos, una hora tiene 60 minutos o lo que es lo mismo 3600 segundos.\n",
    "\n",
    "El resultado puedes devolverlo así.\n",
    "\n",
    "```\n",
    "return horas, minutos, segundos\n",
    "```"
   ]
  },
  {
   "cell_type": "markdown",
   "metadata": {},
   "source": [
    "# Datos de prueba\n",
    "Un ejemplo de cambio de segundos a horas:minutos y segundos:\n",
    "3761 -> 1:2:41\n",
    "Un ejemplo del cambio contrario:\n",
    "3:10:56 -> 11456"
   ]
  },
  {
   "cell_type": "code",
   "execution_count": null,
   "metadata": {},
   "outputs": [],
   "source": []
  }
 ],
 "metadata": {
  "language_info": {
   "name": "python"
  }
 },
 "nbformat": 4,
 "nbformat_minor": 2
}
