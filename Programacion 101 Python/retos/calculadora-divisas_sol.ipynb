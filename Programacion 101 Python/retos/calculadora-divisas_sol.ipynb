{
 "cells": [
  {
   "cell_type": "markdown",
   "metadata": {},
   "source": [
    "# Reto extra. Tipos de cambio\n",
    "\n",
    "## Enunciado\n",
    "\n",
    "Partiendo de los siguientes tipos de cambio respecto al dolar\n",
    "\n",
    "| **Dolar** | **Moneda** | Valor |\n",
    "|-----------|--------------|-------|\n",
    "| 1.00 | EUR | 0.95 |\n",
    "| 1.00 | JPY (yen) | 136.41 |\n",
    "| 1.00 | Yuan | 6.96 |\n",
    "| 1.00 | RUB (rublo) | 76.02 |\n",
    "\n",
    "Construye las funciones necesarias para poder convertir cualquier moneda a cualquier otra"
   ]
  },
  {
   "cell_type": "code",
   "execution_count": 1,
   "metadata": {},
   "outputs": [],
   "source": [
    "def dolar_a_euro(dolares):\n",
    "  return dolares * 0.95\n",
    "\n",
    "def dolar_a_yen(dolares):\n",
    "  return dolares * 136.41\n",
    "\n",
    "def dolar_a_yuan(dolares):\n",
    "  return dolares * 6.96\n",
    "\n",
    "def dolar_a_rublo(dolares):\n",
    "  return dolares * 76.02\n",
    "\n",
    "# Inversas\n",
    "\n",
    "def euro_a_dolar(euros):\n",
    "  return euros / dolar_a_euro(1)\n",
    "\n",
    "def yen_a_dolar(yenes):\n",
    "  return yenes / dolar_a_yen(1)\n",
    "\n",
    "def yuan_a_dolar(yuanes):\n",
    "  return yuanes / dolar_a_yuan(1)\n",
    "\n",
    "def rublo_a_dolar(rublos):\n",
    "  return rublos / dolar_a_rublo(1)"
   ]
  }
 ],
 "metadata": {
  "kernelspec": {
   "display_name": "Python 3",
   "language": "python",
   "name": "python3"
  },
  "language_info": {
   "codemirror_mode": {
    "name": "ipython",
    "version": 3
   },
   "file_extension": ".py",
   "mimetype": "text/x-python",
   "name": "python",
   "nbconvert_exporter": "python",
   "pygments_lexer": "ipython3",
   "version": "3.9.6"
  }
 },
 "nbformat": 4,
 "nbformat_minor": 2
}
