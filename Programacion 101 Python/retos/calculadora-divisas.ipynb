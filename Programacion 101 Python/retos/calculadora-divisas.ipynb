{
 "cells": [
  {
   "cell_type": "markdown",
   "metadata": {},
   "source": [
    "# Reto extra. Tipos de cambio\n",
    "\n",
    "## Enunciado\n",
    "\n",
    "Partiendo de los siguientes tipos de cambio respecto al dolar\n",
    "\n",
    "| **Dolar** | **Moneda** | Valor |\n",
    "|-----------|--------------|-------|\n",
    "| 1.00 | EUR | 0.95 |\n",
    "| 1.00 | JPY (yen) | 136.41 |\n",
    "| 1.00 | Yuan | 6.96 |\n",
    "| 1.00 | RUB (rublo) | 76.02 |\n",
    "\n",
    "Construye las funciones necesarias para poder convertir cualquier moneda a cualquier otra"
   ]
  },
  {
   "cell_type": "code",
   "execution_count": null,
   "metadata": {},
   "outputs": [],
   "source": []
  }
 ],
 "metadata": {
  "language_info": {
   "name": "python"
  }
 },
 "nbformat": 4,
 "nbformat_minor": 2
}
