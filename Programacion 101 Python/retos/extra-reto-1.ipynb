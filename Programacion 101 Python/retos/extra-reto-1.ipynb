{
 "cells": [
  {
   "cell_type": "markdown",
   "metadata": {},
   "source": [
    "# Ejercicio 3. Cuanto cuesta una carrera\n",
    "\n",
    "## Enunciado\n",
    "\n",
    "Sabiendo que la tarifa de taxi de una ciudad es 2,5 € por el inicio del servicio mas 46 centimos de euro por cada 400 metros de recorrido. Crea una función que devuelva el precio de una carrera indicando los kilómetros (no los metros) recorridos.\n",
    "\n",
    "Si se informa una distancia recorrida menor que cero, la función debe devolver el valor -1 (indicativo de error)"
   ]
  },
  {
   "cell_type": "markdown",
   "metadata": {},
   "source": [
    "## Ayuda a la implementación\n",
    "\n",
    "La entrada de datos es en kilómetros y la tarifa se basa en metros, ten cuidado con eso. \n",
    "\n",
    "Es interesante que tanto el precio por los 400 metros como de inicio de servicio se incluyan como constantes para adaptarlo a los futuros cambios de tarifa."
   ]
  },
  {
   "cell_type": "code",
   "execution_count": null,
   "metadata": {},
   "outputs": [],
   "source": []
  }
 ],
 "metadata": {
  "language_info": {
   "name": "python"
  }
 },
 "nbformat": 4,
 "nbformat_minor": 2
}
