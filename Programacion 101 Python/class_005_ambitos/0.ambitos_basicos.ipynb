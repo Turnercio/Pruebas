{
 "cells": [
  {
   "cell_type": "markdown",
   "metadata": {},
   "source": [
    "# Laboratorio de Ambitos Básicos\n",
    "\n",
    "Voy a ir eligiendo de entre los que tengan la cámara apagada o cara de sueño. El que avisa...\n",
    "\n",
    "\n",
    "--------------------"
   ]
  },
  {
   "cell_type": "code",
   "execution_count": null,
   "metadata": {},
   "outputs": [],
   "source": [
    "# 1\n",
    "name = 'Fernando'\n",
    "\n",
    "def full_name(name, surname):\n",
    "    return name + ' ' + surname"
   ]
  },
  {
   "cell_type": "markdown",
   "metadata": {},
   "source": [
    "* dentro de `full_name` ¿qué definición de `name`? es válidad?\n",
    "* ¿Alguien le hace sombra a alguien?"
   ]
  },
  {
   "cell_type": "code",
   "execution_count": null,
   "metadata": {},
   "outputs": [],
   "source": [
    "# 2\n",
    "answer = 42\n",
    "\n",
    "def foo(n, m):\n",
    "\n",
    "    def bar(k):\n",
    "        return k + answer\n",
    "    \n",
    "    return bar(n) + bar(m)\n"
   ]
  },
  {
   "cell_type": "markdown",
   "metadata": {},
   "source": [
    "* en la celda de arriba, `bar` tiene acceso a la definición de `k`? ¿Por qué?\n",
    "* ¿Qué devolvería `foo(2,1)`. Hazlo de cabeza"
   ]
  },
  {
   "cell_type": "code",
   "execution_count": null,
   "metadata": {},
   "outputs": [],
   "source": [
    "# 3\n",
    "def foo(m,n):\n",
    "    def bar():\n",
    "        return m + n\n",
    "    \n",
    "    return bar()**2 + bar()**3 + bar()**4"
   ]
  },
  {
   "cell_type": "markdown",
   "metadata": {},
   "source": [
    "* En la celda anterior, teniendo en cuenta que `bar` no recibe ningún parámetro, ¿cómo accede a `m`y `n`?"
   ]
  },
  {
   "cell_type": "markdown",
   "metadata": {},
   "source": [
    "## 🛎️ Buenas Prácticas en el diseño de funciones\n",
    "\n",
    "El ejemplo 2 es sólo un ejercicio para entender cómo funciona la visibilidad de los ámbitos.\n",
    "\n",
    "No obstante, es un pésimo ejemplo de cómo diseñar funciones.\n",
    "\n",
    "> Nunca crees una función que necesita ir a buscar una variable que hayas definido en el entorno global.\n",
    "\n",
    "### Las funciones deben de recibir, no buscar\n",
    "\n",
    "> Una función bien diseñada debe de recibir todo lo que necesita por sus parámetros, o como mucho en el ámbito en el que fue definida.\n",
    "\n",
    "Sigueindo esa regla, el ejemplo 2 es mlao y el ejemplo 3 es bueno.\n",
    "\n",
    "### Razón\n",
    "\n",
    "Uno de los objetivos del buen software es ser **reutilizable** (de nuevo, vagancia productiva).\n",
    "\n",
    "Si una función depende de coasas externas, como variables globales, será *dificil llevarla o otro proyecto*.\n",
    "\n"
   ]
  },
  {
   "cell_type": "markdown",
   "metadata": {},
   "source": [
    "## 🛎️ Buenas Prácticas y variables globales\n",
    "\n",
    "Evita usarlas, son fuente inagotable de problemas."
   ]
  }
 ],
 "metadata": {
  "kernelspec": {
   "display_name": "Python 3 (ipykernel)",
   "language": "python",
   "name": "python3"
  },
  "language_info": {
   "codemirror_mode": {
    "name": "ipython",
    "version": 3
   },
   "file_extension": ".py",
   "mimetype": "text/x-python",
   "name": "python",
   "nbconvert_exporter": "python",
   "pygments_lexer": "ipython3",
   "version": "3.11.3"
  }
 },
 "nbformat": 4,
 "nbformat_minor": 4
}
