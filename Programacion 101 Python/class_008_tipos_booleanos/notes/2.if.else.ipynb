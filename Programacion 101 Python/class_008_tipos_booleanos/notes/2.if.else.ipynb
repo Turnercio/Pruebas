{
 "cells": [
  {
   "cell_type": "markdown",
   "metadata": {},
   "source": [
    "# ¿Para qué valen los booleanos?\n",
    "\n",
    "> Para que tu programa pueda tomar decisiones.\n",
    "\n",
    "![](road-not-taken.jpg)\n",
    "\n",
    "*Dos caminos divergían en un bosque, y yo*\n",
    "\n",
    "*Yo tomé el menos transitado,*\n",
    "\n",
    "*Y eso marcó toda la diferencia.*\n",
    "\n",
    "**Robert Frost**"
   ]
  },
  {
   "cell_type": "markdown",
   "metadata": {},
   "source": [
    "-------------------------"
   ]
  },
  {
   "cell_type": "markdown",
   "metadata": {},
   "source": [
    "## `if`\n",
    "\n",
    "`if` es una palabra clave de Python, que junto a los booleanos permite que nuestro código tome decisiones, elija ir hacia la derecha o la izquierda.\n",
    "\n",
    "Tiene la siguiente estructura:\n",
    "\n",
    "```\n",
    "if <expresión booleana>:\n",
    "    código que se ejecutará\n",
    "    sólo sí la expresión es True\n",
    "    Puede tener todas las lineas \n",
    "    que quieras, y como está indentado,\n",
    "    define un ámbito local.\n",
    "    Se termina cuando se acaba el indentado\n",
    "```\n",
    "\n",
    "\n"
   ]
  },
  {
   "cell_type": "markdown",
   "metadata": {},
   "source": [
    "## `else`\n",
    "\n",
    "Sólo se usa junto a un `if` y sirve para ejecutar algo, en caso de que la expresión booleana del `if` sea falsa.\n",
    "\n",
    "\n",
    "Tiene la siguiente estructura:\n",
    "\n",
    "```\n",
    "if <expresión booleana>:\n",
    "    código que se ejecutará\n",
    "    sólo sí la expresión es True\n",
    "    Puede tener todas las lineas \n",
    "    que quieras, y como está indentado,\n",
    "    define un ámbito local.\n",
    "    Se termina cuando se acaba el indentado\n",
    "else:\n",
    "    otro bloque de código indentado\n",
    "    por lo tanto, un nuevo ámbito\n",
    "    que se ejecutará si y solo si\n",
    "    la expresión booleana es falsa\n",
    "```\n",
    "\n",
    "-----------------------------\n"
   ]
  },
  {
   "cell_type": "markdown",
   "metadata": {},
   "source": [
    "vamos al lab correspondiente para hacer algunos ejercicios"
   ]
  },
  {
   "cell_type": "markdown",
   "metadata": {},
   "source": []
  },
  {
   "cell_type": "markdown",
   "metadata": {},
   "source": []
  }
 ],
 "metadata": {
  "kernelspec": {
   "display_name": "Python 3 (ipykernel)",
   "language": "python",
   "name": "python3"
  },
  "language_info": {
   "codemirror_mode": {
    "name": "ipython",
    "version": 3
   },
   "file_extension": ".py",
   "mimetype": "text/x-python",
   "name": "python",
   "nbconvert_exporter": "python",
   "pygments_lexer": "ipython3",
   "version": "3.11.3"
  }
 },
 "nbformat": 4,
 "nbformat_minor": 2
}
