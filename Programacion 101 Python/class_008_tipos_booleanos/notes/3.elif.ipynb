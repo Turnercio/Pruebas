{
 "cells": [
  {
   "cell_type": "markdown",
   "metadata": {},
   "source": [
    "# Condiciones más complejas"
   ]
  },
  {
   "cell_type": "markdown",
   "metadata": {},
   "source": [
    "------------------"
   ]
  },
  {
   "cell_type": "markdown",
   "metadata": {},
   "source": [
    "Cuando tenemos condiciones más complejas, con ifs anidados, usamos `elif`\n",
    "\n",
    "Tiene la siguiente estructura:\n",
    "\n",
    "```\n",
    "if <expresión booleana 1>:\n",
    "    código que se ejecutará\n",
    "    sólo sí la expresión es True\n",
    "    Puede tener todas las lineas \n",
    "    que quieras, y como está indentado,\n",
    "    define un ámbito local.\n",
    "    Se termina cuando se acaba el indentado\n",
    "\n",
    "elif: <expresión booleana 2>\n",
    "    código que sólo se ejecuta se la condición 1 es falsa\n",
    "    y la 2 es verdadera\n",
    "\n",
    "elif:<expresión booleana 3>\n",
    "    código que sólo se ejecuta se las condiciones 1 y 2 \n",
    "    son falsas y la 3 es verdadera\n",
    "\n",
    "...\n",
    "else:\n",
    "    sólo se ejecutará si todas \n",
    "    las expresiones booleanas \n",
    "    han resultado falsas.\n",
    "```"
   ]
  },
  {
   "cell_type": "markdown",
   "metadata": {},
   "source": [
    "## Buenas Prácticas\n",
    "\n",
    "No abuses de los if-elif-else muy complejos o anidados. Tu código se volvería imposible de leer.\n",
    "\n",
    "> Si en una función te encuentras con un if-elif-else muy complejo, es señal de que tienes que romperla en funciones más sencillas"
   ]
  },
  {
   "cell_type": "markdown",
   "metadata": {},
   "source": [
    "¡Al lab!"
   ]
  }
 ],
 "metadata": {
  "kernelspec": {
   "display_name": "Python 3 (ipykernel)",
   "language": "python",
   "name": "python3"
  },
  "language_info": {
   "codemirror_mode": {
    "name": "ipython",
    "version": 3
   },
   "file_extension": ".py",
   "mimetype": "text/x-python",
   "name": "python",
   "nbconvert_exporter": "python",
   "pygments_lexer": "ipython3",
   "version": "3.11.3"
  }
 },
 "nbformat": 4,
 "nbformat_minor": 2
}
