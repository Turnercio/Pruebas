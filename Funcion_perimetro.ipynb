{
 "cells": [
  {
   "cell_type": "code",
   "execution_count": 2,
   "metadata": {},
   "outputs": [
    {
     "name": "stdout",
     "output_type": "stream",
     "text": [
      "18.849552000000003\n"
     ]
    }
   ],
   "source": [
    "pi = 3.141592\n",
    "r = float(input(\"Introduce el Radio deseado \"))\n",
    "\n",
    "def funcion_perimetro(r):\n",
    "    f = 2*pi*r\n",
    "    return f\n",
    "\n",
    "result = funcion_perimetro (r)\n",
    "\n",
    "print (result)"
   ]
  }
 ],
 "metadata": {
  "kernelspec": {
   "display_name": "Python 3",
   "language": "python",
   "name": "python3"
  },
  "language_info": {
   "codemirror_mode": {
    "name": "ipython",
    "version": 3
   },
   "file_extension": ".py",
   "mimetype": "text/x-python",
   "name": "python",
   "nbconvert_exporter": "python",
   "pygments_lexer": "ipython3",
   "version": "3.12.2"
  }
 },
 "nbformat": 4,
 "nbformat_minor": 2
}
