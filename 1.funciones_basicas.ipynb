{
 "cells": [
  {
   "cell_type": "markdown",
   "metadata": {},
   "source": [
    "# Laboratorio de Funciones Básicas\n",
    "\n",
    "---------------------------"
   ]
  },
  {
   "cell_type": "markdown",
   "metadata": {},
   "source": [
    "\n",
    "1. perímetro\n",
    "2. area\n",
    "3. volumen\n",
    "4. iva\n",
    "5. area de un rectágulo\n",
    "6. area de un cuadrado\n",
    "7. refactor area de cuadrado: una función puede llamar a otra\n",
    "8. ver ejemplos de schemer's\n",
    "9. ponerlos a hacer los ejercicios de ramón"
   ]
  },
  {
   "cell_type": "markdown",
   "metadata": {},
   "source": [
    "## Ejercicio: Función perímetro\n",
    "\n",
    "Declara una función `perimeter` que calcula el perímetro de un círculo, a partir de su radio. Recuerda que \n",
    "\n",
    "* la fórmula es `p = 2 π r`\n",
    "* declara `pi` como una variable"
   ]
  },
  {
   "cell_type": "markdown",
   "metadata": {},
   "source": [
    "------------------------------\n",
    "\n",
    "## 🛎️ Algoritmo Universal Para Crear Funciones\n",
    "\n",
    "Empieza por preguntarte siempre lo siguiente:\n",
    "\n",
    "> * ¿Qué tiene que devolver? Es decir, ¿qué tengo que construir?\n",
    "> * ¿Qué recibe como parámetros? Es decir, ¿qué materias primas tengo?\n",
    "\n",
    "-------------------------------------"
   ]
  },
  {
   "cell_type": "markdown",
   "metadata": {},
   "source": [
    "## Ejercicio: Función perímetro\n",
    "\n",
    "Ahora crea otra función que hace lo mismo,  pero *a partir del diámetro*.\n",
    "\n",
    "* ¿Cómo lo harías?\n",
    "* ¿Se respeta el principio DRY? Mira en los Pilares de la Ciberkinesis.\n",
    "* ¿Qué nombre le has puesto? A veces los nombres *se chocan*. Más adelante veremos mejores soluciones.\n",
    "  "
   ]
  },
  {
   "cell_type": "markdown",
   "metadata": {},
   "source": [
    "## Ejercicio: Area de un rectángulo\n",
    "\n",
    "Crea la función `rectangle_area` que recibe los dos lados d eun rectángulo y devuelve su area.\n",
    "\n",
    "Ahora, crea la función para caluclar el **area de un cuadrado**. ¿Cómo lo plantearías?"
   ]
  },
  {
   "cell_type": "markdown",
   "metadata": {},
   "source": [
    "## Volúmen de un prisma rectangular\n",
    "\n",
    "Un *prisma rectangular* es la proyección de un rectángulo en una 3ª dimensión: un ladrillo, vamos.\n",
    "\n",
    "Su volumen es el area multiplicada por la altura.\n",
    "\n",
    "Crea un función que:\n",
    "\n",
    "* devuelve el volumen\n",
    "* recibe  los 3 lados\n",
    "\n"
   ]
  },
  {
   "cell_type": "markdown",
   "metadata": {},
   "source": [
    "--------------------------------"
   ]
  }
 ],
 "metadata": {
  "kernelspec": {
   "display_name": "Python 3 (ipykernel)",
   "language": "python",
   "name": "python3"
  },
  "language_info": {
   "codemirror_mode": {
    "name": "ipython",
    "version": 3
   },
   "file_extension": ".py",
   "mimetype": "text/x-python",
   "name": "python",
   "nbconvert_exporter": "python",
   "pygments_lexer": "ipython3",
   "version": "3.11.3"
  }
 },
 "nbformat": 4,
 "nbformat_minor": 4
}
