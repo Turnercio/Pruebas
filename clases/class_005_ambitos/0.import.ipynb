{
 "cells": [
  {
   "cell_type": "markdown",
   "metadata": {},
   "source": [
    "# Ámbitos Globales\n",
    "\n",
    "Hemos visto que todo documento de Jupyter y todo fichero de Python definen un **ámbito global**.\n",
    "\n",
    "¿Qué pasa si necesitamos usar una definición que se encuentra en un ámbito global externo, es decir, en otro fichero?\n",
    "\n",
    "## El fichero `math.py`\n",
    "\n",
    "Python incluye por defecto un fichero llamado `math.py` que contiene un cascoporro de definiciones muy útiles, como por ejemplo constantes para pi y e, funciones para raíz cuadrada, potencia, logaritmo y un largo etcetera.\n",
    "\n",
    "## La palabra clave `import`\n",
    "\n",
    "`import` no spermite importar ya sea un ámbito, todo su contenido o parte de él.\n",
    "\n",
    "Haya varias formas de usarla:"
   ]
  },
  {
   "cell_type": "markdown",
   "metadata": {},
   "source": [
    "### Forma correcta"
   ]
  },
  {
   "cell_type": "code",
   "execution_count": 6,
   "metadata": {},
   "outputs": [],
   "source": [
    "import math"
   ]
  },
  {
   "cell_type": "markdown",
   "metadata": {},
   "source": [
    "Con esto, hemos importado o traído el *ámbito math*. \n",
    "\n",
    "Para acceder a cualquier cosa ahí dentro, tenemos que escribir primero el nombre del ámbito seguido de la definición que queremos, separados por un punto.\n",
    "\n",
    "> Es decir, hemos creado una definición, cuyo nombre es `math` y cuyo valor son todas las definiciones que hay dentro del fichero math.py"
   ]
  },
  {
   "cell_type": "code",
   "execution_count": 7,
   "metadata": {},
   "outputs": [],
   "source": [
    "area = 2 * math.pi * 5"
   ]
  },
  {
   "cell_type": "markdown",
   "metadata": {},
   "source": [
    "Si m`math`no hubiese sido importado antes, daría un error diciendo que la definición de `math` no existe."
   ]
  },
  {
   "cell_type": "markdown",
   "metadata": {},
   "source": [
    "### Forma aun más correcta"
   ]
  },
  {
   "cell_type": "code",
   "execution_count": 8,
   "metadata": {},
   "outputs": [],
   "source": [
    "from math import pi"
   ]
  },
  {
   "cell_type": "markdown",
   "metadata": {},
   "source": [
    "En este caso, sólo estamos importando una definición de todas las que hay en math.\n",
    "\n",
    "> Usa siempre que puedas esta forma. Dejas claro qué es lo que necesitas y tu código será más fácil de entender.\n",
    "\n",
    "```python\n",
    "area = 2 * pi * 5\n",
    "```"
   ]
  },
  {
   "cell_type": "markdown",
   "metadata": {},
   "source": [
    "### Forma chapucera"
   ]
  },
  {
   "cell_type": "code",
   "execution_count": 9,
   "metadata": {},
   "outputs": [],
   "source": [
    "from math import *"
   ]
  },
  {
   "cell_type": "markdown",
   "metadata": {},
   "source": [
    "Aquí estamos diciendo que pille todas las definiciones de math y nos las vuelque dentro de nuestro ámbito.\n",
    "\n",
    "Esto guarrea nuestro ámbito, puede causar colisiones de nombres y nos impide usar esos mimso nombres para nuestras variablesy funciones.\n",
    "\n",
    "![](import.png) es el equivalente a un camión de la basura volcando todo su contenido en tu portal.\n",
    "\n",
    "> No lo hagas"
   ]
  },
  {
   "cell_type": "markdown",
   "metadata": {},
   "source": [
    "## Módulos\n",
    "\n",
    "Los ficheros de Python, cuyo ámbito se puede importar, se llaman **módulos**.\n",
    "\n",
    "Y sí, por supuesto que puedes crear los tuyos. Lo haremso más adelante."
   ]
  },
  {
   "cell_type": "markdown",
   "metadata": {},
   "source": [
    "## ¿Dónde se importan los módulos?\n",
    "\n",
    "* Siempre antes de usarlos\n",
    "* En el caso de ficheros, se suele poner arriba del todo\n",
    "* También se puede poner dentro de una función\n",
    "\n",
    "Esto último se hace cuando sólo esa función va a necesitar lo importado. Así que no guarreamos el ámbito global:"
   ]
  },
  {
   "cell_type": "code",
   "execution_count": null,
   "metadata": {},
   "outputs": [],
   "source": [
    "def f(a,b,c):\n",
    "    from math import sqrt\n",
    "    tmp = (a + b + c) / 2\n",
    "    return sqrt(tmp)"
   ]
  }
 ],
 "metadata": {
  "kernelspec": {
   "display_name": "Python 3 (ipykernel)",
   "language": "python",
   "name": "python3"
  },
  "language_info": {
   "codemirror_mode": {
    "name": "ipython",
    "version": 3
   },
   "file_extension": ".py",
   "mimetype": "text/x-python",
   "name": "python",
   "nbconvert_exporter": "python",
   "pygments_lexer": "ipython3",
   "version": "3.11.6"
  }
 },
 "nbformat": 4,
 "nbformat_minor": 4
}
