{
 "cells": [
  {
   "cell_type": "markdown",
   "metadata": {},
   "source": [
    "# 🛎️ 🧢 Nombres, Valores y Ambitos\n",
    "\n",
    "Cuando creamos una variable, o definimos una función, en el fondo estamos haciendo algo muy parecido. \n",
    "\n",
    "> Creamos *algo* y le damos un nombre\n",
    "\n",
    "Es como añadir una entrada a un diccionario:\n",
    "\n",
    " Nombre | Definción, el *algo*. Llamemóslo *valor*\n",
    "-------|----------------------\n",
    "senda  | Procedimiento o medio para hacer o lograr algo\n",
    "\n",
    "![Alt text](nombres_valores.png)\n",
    "\n",
    "\n",
    "La sintáxis en el caso de una variable o de una función son diferentes, pero lo que hacemos es en el fondo lo mismo: crear algo y darle un nombre, para poder reutilizarlo después:\n",
    "\n",
    "* Variable: le damos un nombre a un dato para reaprovecharlo\n",
    "* Función: le damos un nombre a una expresión, para reaprovecharla.\n",
    "\n",
    "La sintaxis es diferente, porque el creador del lenguaje (un tal [Guido van Rossum](https://gvanrossum.github.io/)) así lo decidió. Hay [otros lenguajes](https://fsharp.org/) en los que no es así.\n",
    "\n"
   ]
  },
  {
   "cell_type": "markdown",
   "metadata": {},
   "source": [
    "# Ambitos\n",
    "\n",
    "Esas parejas `nombre :valor` se guardan en lo que se llama un **ámbito**.\n",
    "\n",
    "Hay varios ámbitos (conjuntos de parejas `nombre : valor`). Veamos los más importantes:\n",
    "\n",
    "1. Ambito global\n",
    "2. Ambitos locales\n",
    "\n"
   ]
  },
  {
   "cell_type": "markdown",
   "metadata": {},
   "source": [
    "## Ambito Global\n",
    "\n",
    "Lo crea el propio Python, y está presente en todas las celdas de tu *Google Colab* (o tu Jupyter Lab, recuerda, es lo mismo) y también dentro de cualquier fichero de Python:\n",
    "\n",
    "![](ambito_global.png)\n",
    "\n",
    "\n",
    "### ¿Qué contiene?\n",
    "\n",
    "1. Las definiciones que hagas tú en ese notebook (o fichero de Python)\n",
    "2. Las que Python hace por ti. Hay muchas funciones que vienen de serie: `print`, `input`, `dir`, `list`,  `len`, etc, son funciones propias de Python que están presentes en el *ámbito global*.\n",
    "3. Las que tu *importes*: se puede traer un conjunto de definiciones e *inyectarlas* o *importarlas*. Lo veremos más adelante."
   ]
  },
  {
   "cell_type": "markdown",
   "metadata": {},
   "source": [
    "## Ambito Local\n",
    "\n",
    "Son ámbitos menores que están dentro del global, y a veces **anidados unos dentro de otros**. \n",
    "\n",
    "¡Igual que en [Inception](https://www.youtube.com/watch?v=66TuSJo4dZM&t=2s), donde había sueños dentro de sueños, dentro de sueños!\n",
    "\n",
    "\n",
    "![Alt text](ambitos_anidados.jpg)\n",
    "\n",
    "\n",
    "\n",
    "\n",
    "## ¿Cómo se crean los ámbitos locales?\n",
    "\n",
    "¡Con un tabulador!\n",
    "\n",
    "> La tabulación crea, en Python, un nuevo ámbito dentro del actual\n"
   ]
  },
  {
   "cell_type": "code",
   "execution_count": null,
   "metadata": {},
   "outputs": [],
   "source": [
    "# Aquí estamos dentro del ámbito global\n",
    "name = 'Lucas' # Variable global. Se le llama global porque... ya te lo puedes imaginar.\n",
    "\n",
    "def say_hello():\n",
    "    # Aquí estamos dentro de un ámbito local\n",
    "    name = 'Marta' # Variable local. Se le llama local porque... ya te lo puedes imaginar.\n",
    "    return 'Hola' + name\n",
    "\n",
    "\n",
    "# Momento Inception total: agárrate las bragas antes de seguir leyendo\n",
    "def foo(n):\n",
    "    # Aquí estamos dentro de un ámbito local\n",
    "\n",
    "    def bar(m):\n",
    "        # ¡¿Comorrr?! ¡¿Una función definida dentro de otra?! ¡¿Pero esto qué es?!\n",
    "        # Aquí estamos dentro de un ámbito local DENTRO del otro ámbito local!!\n",
    "        return m + n \n",
    "\n",
    "    return bar(n + 1) * 2\n"
   ]
  },
  {
   "cell_type": "markdown",
   "metadata": {},
   "source": [
    "## Visibilidad de las definiciones\n",
    "\n",
    "\n",
    "**MUY IMPORTANTE** Hay que tatuárselo en la frente, como el tío de [Memento](https://www.youtube.com/watch?v=HDWylEQSwFo).\n",
    "\n",
    "\n",
    "1. El **ámbito local ve** las definiciones de los *ámbitos externos*.\n",
    "2. El **ámbito externo NO ve**  las definiciones de los ámbitos *internos*.\n",
    "\n",
    "\n",
    "> De abajo a arriba se ve **todo** (Como las puertas de los retretes). De arriba a abajo, no se ve **nada**\n",
    " \n",
    "![](https://c2.staticflickr.com/6/5256/5522655907_55505dda00_b.jpg)\n",
    "\n",
    "\n",
    "\n",
    "\n",
    "\n",
    "Con esto, podemos entender un poco mejor lo que ocurre en la celda de arriba.\n",
    "\n",
    "1. El ámbito de `bar` ve, no solo su parámetro, sino también todo lo que está en el superior (`foo`), y por eso logra sumar m + n. \n",
    "2. `bar` también ve lo que está en el superior de `foo`, que ya es el global. Por lo tanto, también tiene acceso a la variable global `name`\n",
    "   \n"
   ]
  },
  {
   "cell_type": "markdown",
   "metadata": {},
   "source": [
    "\n",
    "### ¿Qué pasa cuando dos definiciones en ámbitos distintos tienen el mismo nombre?\n",
    "\n",
    "Tenemos un ejemplo en la función `say_hello`. En ella, se define una *variable local* que tiene el mismo nombre que una *variable global*.\n",
    "\n",
    "En ese caso, se dice que:\n",
    "\n",
    "> La definición local le **hace sombra** a la global\n",
    "\n",
    "\n",
    "El resultado es que desde dentro de `say_hello` **no se puede acceder** a la variable global `name`.\n",
    "\n",
    "\n",
    "Esto normalmente se hace por error.\n",
    "\n"
   ]
  },
  {
   "cell_type": "markdown",
   "metadata": {},
   "source": [
    "## ¿Cómo se buscan las definiciones?\n",
    "\n",
    "Cuando Python se encuentra una referencia a alguna definición (variable o función, tanto da), hace lo siguiente:\n",
    "\n",
    "1. La busca en el ámbito actual.\n",
    "   1. Si la encuentra, devuelve el valor\n",
    "   2. Si no la encuentra, sigue buscando en el ámbito superior\n",
    "2. Si al llegar al ámbito global, no la encuentra, devuelve un error.\n",
    "\n",
    "\n"
   ]
  },
  {
   "cell_type": "markdown",
   "metadata": {},
   "source": [
    "## Consecuencias y más\n",
    "\n",
    "\n",
    "```python\n",
    "def add(a,b):\n",
    "    return a + b\n",
    "```\n",
    "\n",
    "* Los parámetros de las funciones sólo se pueden ver dentro de las mismas\n",
    "* Los ámbitos de las funciones se crean y se destruyen cada vez que se llama y que ésta devuelve\n",
    "\n",
    "\n",
    "## Para más adelante\n",
    "\n",
    "* Hay otras formas de crear ámbitos locales que no son las funciones. Lo veremos más adelante, pero el indicador de nuevo ámbito sigue presente: *el indentado*.\n",
    "* SI entiendes bien el algoritmo de búsqueda de definiciones, sin darte cuenta habrás entendido también gran parte de la POO (mucho más adelante)\n",
    "\n",
    "> al lab de ambitos"
   ]
  }
 ],
 "metadata": {
  "kernelspec": {
   "display_name": "Python 3 (ipykernel)",
   "language": "python",
   "name": "python3"
  },
  "language_info": {
   "codemirror_mode": {
    "name": "ipython",
    "version": 3
   },
   "file_extension": ".py",
   "mimetype": "text/x-python",
   "name": "python",
   "nbconvert_exporter": "python",
   "pygments_lexer": "ipython3",
   "version": "3.11.3"
  }
 },
 "nbformat": 4,
 "nbformat_minor": 4
}
