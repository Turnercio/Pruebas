{
 "cells": [
  {
   "cell_type": "markdown",
   "metadata": {},
   "source": [
    "# Ejercicios de Excepciones\n",
    "\n",
    "--------------------------------"
   ]
  },
  {
   "cell_type": "markdown",
   "metadata": {},
   "source": [
    "## (0) Densidad\n",
    "\n",
    "La fórmula para la densidad es la siguiente:\n",
    "\n",
    "$$densidad = \\frac{Masa}{Volumen}$$\n",
    "\n",
    "Crea la función `density` que recibe esos dos parámetros y calcula la densidad.\n",
    "\n",
    "**Problemas**\n",
    "\n",
    "* El usuario podría pasar algún valor negativo.\n",
    "* El usuario podría pasar un `Volumen` cero.\n",
    "\n",
    "1. ¿Qué tipo de errores son (de dominio, pánico o externo)?\n",
    "2. ¿Deberías gestionarlos?\n",
    "\n",
    "1. En tu función, nada más entrar, comprueba que ambos parámetros son positivos (mayores que cero) y sino, lanza un `ValueError`.\n",
    "2. Llama a la función desde un bloque `try / except` que captura `ValueError` nada más\n",
    "3. Llama a la función pasando un volumen cero. ¿Qué ocurre?\n",
    "4. Captura la excepción de división por cero en otro bloque except y avisa al usuario que acaba de crear un agujero negro"
   ]
  },
  {
   "cell_type": "code",
   "execution_count": 1,
   "metadata": {},
   "outputs": [],
   "source": [
    "\n",
    "def density(mass, volume):\n",
    "\n",
    "    if mass < 0 or volume < 0:\n",
    "        raise ValueError(\"Masa y volumen tienen que ser positivos\")\n",
    "        \n",
    "    else:\n",
    "        return mass / volume\n"
   ]
  },
  {
   "cell_type": "code",
   "execution_count": 2,
   "metadata": {},
   "outputs": [
    {
     "ename": "ValueError",
     "evalue": "Masa y volumen tienen que ser positivos",
     "output_type": "error",
     "traceback": [
      "\u001b[0;31m---------------------------------------------------------------------------\u001b[0m",
      "\u001b[0;31mValueError\u001b[0m                                Traceback (most recent call last)",
      "Cell \u001b[0;32mIn[2], line 1\u001b[0m\n\u001b[0;32m----> 1\u001b[0m dd \u001b[38;5;241m=\u001b[39m \u001b[43mdensity\u001b[49m\u001b[43m(\u001b[49m\u001b[38;5;241;43m1\u001b[39;49m\u001b[43m,\u001b[49m\u001b[43m \u001b[49m\u001b[38;5;241;43m-\u001b[39;49m\u001b[38;5;241;43m100\u001b[39;49m\u001b[43m)\u001b[49m\n\u001b[1;32m      2\u001b[0m \u001b[38;5;28mprint\u001b[39m(dd)\n",
      "Cell \u001b[0;32mIn[1], line 4\u001b[0m, in \u001b[0;36mdensity\u001b[0;34m(mass, volume)\u001b[0m\n\u001b[1;32m      1\u001b[0m \u001b[38;5;28;01mdef\u001b[39;00m \u001b[38;5;21mdensity\u001b[39m(mass, volume):\n\u001b[1;32m      3\u001b[0m     \u001b[38;5;28;01mif\u001b[39;00m mass \u001b[38;5;241m<\u001b[39m \u001b[38;5;241m0\u001b[39m \u001b[38;5;129;01mor\u001b[39;00m volume \u001b[38;5;241m<\u001b[39m \u001b[38;5;241m0\u001b[39m:\n\u001b[0;32m----> 4\u001b[0m         \u001b[38;5;28;01mraise\u001b[39;00m \u001b[38;5;167;01mValueError\u001b[39;00m(\u001b[38;5;124m\"\u001b[39m\u001b[38;5;124mMasa y volumen tienen que ser positivos\u001b[39m\u001b[38;5;124m\"\u001b[39m)\n\u001b[1;32m      6\u001b[0m     \u001b[38;5;28;01melse\u001b[39;00m:\n\u001b[1;32m      7\u001b[0m         \u001b[38;5;28;01mreturn\u001b[39;00m mass \u001b[38;5;241m/\u001b[39m volume\n",
      "\u001b[0;31mValueError\u001b[0m: Masa y volumen tienen que ser positivos"
     ]
    }
   ],
   "source": [
    "dd = density(1, -100)\n",
    "print(dd)"
   ]
  },
  {
   "cell_type": "code",
   "execution_count": 3,
   "metadata": {},
   "outputs": [
    {
     "name": "stdout",
     "output_type": "stream",
     "text": [
      "0.01\n"
     ]
    }
   ],
   "source": [
    "d = 0\n",
    "try:\n",
    "    d = density(1, 100)\n",
    "except ValueError as error:\n",
    "    print(f'La has cagao: {error}' )\n",
    "\n",
    "print(d)"
   ]
  },
  {
   "cell_type": "markdown",
   "metadata": {},
   "source": [
    "## (1) BMI\n",
    "\n",
    "Crea una función para obtener el índice de masa corporal con la altura en m y el peso en kilos:\n",
    "\n",
    "$$bmi = \\frac{peso}{altura^{2}}$$\n",
    "\n",
    "1. Si el peso está fuera del rango 30 - 200, debe de lanzar una excepción `ValueError` indicando que el peso está fuera de rango\n",
    "2. Si la altura está fuera del rango 1.3 - 2.0, debe de lanzar una excepción `ValueError` indicando que la altura está fuera de rango\n",
    "3. Asegúrate de guardar en el `ValueError` el parámetro que ha dado problemas, el rango aceptable y el valor que causó el problema\n",
    "4. Al llamarla, captura `ValueError`  y sólo `ValueError` y extrae la info que lleva dentro para imprimirla\n",
    "\n",
    "\n",
    "**Extra**\n",
    "\n",
    "Crea la función `bmi_repl` que mediante un bucle while infinito le permite al usuario calcular varios BMIs o salir del repl (usa un menu para eso). Si se produce una excepción, asegúrate de capturarla, explicar al usuario lo ocurrido y reiniciar el cálculo.\n",
    "    \n"
   ]
  },
  {
   "cell_type": "code",
   "execution_count": 21,
   "metadata": {},
   "outputs": [
    {
     "name": "stdout",
     "output_type": "stream",
     "text": [
      "13.333333333333334\n"
     ]
    }
   ],
   "source": [
    "def bmi_repl (weight, height):\n",
    "    \n",
    "\n",
    "    if weight < 30 or weight >200:\n",
    "        raise ValueError(\" El peso esta fuera de rango (30-200)\")\n",
    "    elif height <1.3 or height >2.0:\n",
    "        raise ValueError (\"La altura esta fuera de rango\")\n",
    "    else: \n",
    "        return weight/(height**2)\n",
    "    \n",
    "result = 0  \n",
    "try:\n",
    "    result = bmi_repl(30, 1.50)\n",
    "    print (result)\n",
    "except ValueError as error:\n",
    "        print(f'La has cagao: {error}' )\n",
    "\n"
   ]
  },
  {
   "cell_type": "markdown",
   "metadata": {},
   "source": [
    "## (2) Pendiente de una Línea en Geometría de Coordenadas\n",
    "\n",
    "La pendiente de una línea se calcula dividiendo la diferencia en las coordenadas y por la diferencia en las coordenadas x de dos puntos en la línea.\n",
    "\n",
    "La fórmula es la siguiente:\n",
    "\n",
    "$$\\text{Pendiente} = \\frac{y_2 - y_1}{x_2 - x_1}$$\n",
    "\n",
    "* Crea la función `slope(x1, y1, x2, y2)` que recibe las coordenadas de dos puntos y devuelve un `float` con la pendiente de la recta que los une.\n",
    "\n",
    "Si los componentes x son iguales se provocaría una excepción de división por cero. No quiero eso. Mis usuarios son matemáticos y lo que quieren ver\n",
    "en ese caso es que la pendiente es infinita.\n",
    "\n",
    "* ¿Qué tipo de error es este?\n",
    "* Modifica la función para que capture la excepción de división por cero y en ese caso devuelva `float('inf')`, que es la forma de representar un número infinito en Python\n",
    "\n"
   ]
  },
  {
   "cell_type": "code",
   "execution_count": null,
   "metadata": {},
   "outputs": [],
   "source": [
    "def slope(x1, y1, x2, y2):\n",
    "    result = (y2-y1)/(x2-x1)\n",
    "    "
   ]
  }
 ],
 "metadata": {
  "kernelspec": {
   "display_name": "Python 3",
   "language": "python",
   "name": "python3"
  },
  "language_info": {
   "codemirror_mode": {
    "name": "ipython",
    "version": 3
   },
   "file_extension": ".py",
   "mimetype": "text/x-python",
   "name": "python",
   "nbconvert_exporter": "python",
   "pygments_lexer": "ipython3",
   "version": "3.12.2"
  }
 },
 "nbformat": 4,
 "nbformat_minor": 2
}
