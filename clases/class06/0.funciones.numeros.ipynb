{
 "cells": [
  {
   "attachments": {},
   "cell_type": "markdown",
   "metadata": {},
   "source": [
    "## Area de un triángulo\n",
    "\n",
    "El área de un triángulo es un poco chungo de calcular, porque depende del tipo de triángulo (equilátero, escaleno o isóceles).\n",
    "\n",
    "Hay sin embargo una fórmula genérica. Para poder aplicarla, tenemos que calcular el *semi-perímetro* primero:\n",
    "\n",
    "$$sp = \\frac{(lado1 + lado2 + lado3)}{2}$$\n",
    "\n",
    "Ahora el área se calcula como.\n",
    "\n",
    "\n",
    "$$\\sqrt{sp * (sp - lado1) * (sp - lado2) * (sp -lado3)}$$\n",
    "\n",
    "\n",
    "Crea una función que:\n",
    "* recibe los 3 lados\n",
    "* usa la función `sqrt` que está en `math`\n",
    "* devuelve el area"
   ]
  },
  {
   "cell_type": "code",
   "execution_count": null,
   "metadata": {},
   "outputs": [],
   "source": []
  },
  {
   "cell_type": "code",
   "execution_count": 2,
   "metadata": {},
   "outputs": [
    {
     "data": {
      "text/plain": [
       "2.8284271247461903"
      ]
     },
     "execution_count": 2,
     "metadata": {},
     "output_type": "execute_result"
    }
   ],
   "source": [
    "import math\n",
    "\n",
    "def triangle_area(side1, side2, side3):\n",
    "    \"\"\"\n",
    "    Calcula el area usando el semi-perímetro\n",
    "    \"\"\"\n",
    "    sp = (side1 + side2 + side3) / 2\n",
    "    \n",
    "    return math.sqrt(sp * (sp - side1) * (sp - side2) * (sp - side3))\n",
    "\n",
    "triangle_area(3,2,3)"
   ]
  },
  {
   "cell_type": "code",
   "execution_count": 3,
   "metadata": {},
   "outputs": [
    {
     "ename": "ValueError",
     "evalue": "math domain error",
     "output_type": "error",
     "traceback": [
      "\u001b[0;31m---------------------------------------------------------------------------\u001b[0m",
      "\u001b[0;31mValueError\u001b[0m                                Traceback (most recent call last)",
      "\u001b[1;32m/home/fernando/Documents/projects-current/p101/program/class_007/labs/0.funciones.numeros.ipynb Cell 3\u001b[0m in \u001b[0;36m1\n\u001b[0;32m----> <a href='vscode-notebook-cell:/home/fernando/Documents/projects-current/p101/program/class_007/labs/0.funciones.numeros.ipynb#X25sZmlsZQ%3D%3D?line=0'>1</a>\u001b[0m triangle_area(\u001b[39m2\u001b[39;49m,\u001b[39m1\u001b[39;49m, \u001b[39m9\u001b[39;49m)\n",
      "\u001b[1;32m/home/fernando/Documents/projects-current/p101/program/class_007/labs/0.funciones.numeros.ipynb Cell 3\u001b[0m in \u001b[0;36m9\n\u001b[1;32m      <a href='vscode-notebook-cell:/home/fernando/Documents/projects-current/p101/program/class_007/labs/0.funciones.numeros.ipynb#X25sZmlsZQ%3D%3D?line=3'>4</a>\u001b[0m \u001b[39m\"\"\"\u001b[39;00m\n\u001b[1;32m      <a href='vscode-notebook-cell:/home/fernando/Documents/projects-current/p101/program/class_007/labs/0.funciones.numeros.ipynb#X25sZmlsZQ%3D%3D?line=4'>5</a>\u001b[0m \u001b[39mCalcula el area usando el semi-perímetro\u001b[39;00m\n\u001b[1;32m      <a href='vscode-notebook-cell:/home/fernando/Documents/projects-current/p101/program/class_007/labs/0.funciones.numeros.ipynb#X25sZmlsZQ%3D%3D?line=5'>6</a>\u001b[0m \u001b[39m\"\"\"\u001b[39;00m\n\u001b[1;32m      <a href='vscode-notebook-cell:/home/fernando/Documents/projects-current/p101/program/class_007/labs/0.funciones.numeros.ipynb#X25sZmlsZQ%3D%3D?line=6'>7</a>\u001b[0m sp \u001b[39m=\u001b[39m (side1 \u001b[39m+\u001b[39m side2 \u001b[39m+\u001b[39m side3) \u001b[39m/\u001b[39m \u001b[39m2\u001b[39m\n\u001b[0;32m----> <a href='vscode-notebook-cell:/home/fernando/Documents/projects-current/p101/program/class_007/labs/0.funciones.numeros.ipynb#X25sZmlsZQ%3D%3D?line=8'>9</a>\u001b[0m \u001b[39mreturn\u001b[39;00m math\u001b[39m.\u001b[39;49msqrt(sp \u001b[39m*\u001b[39;49m (sp \u001b[39m-\u001b[39;49m side1) \u001b[39m*\u001b[39;49m (sp \u001b[39m-\u001b[39;49m side2) \u001b[39m*\u001b[39;49m (sp \u001b[39m-\u001b[39;49m side3))\n",
      "\u001b[0;31mValueError\u001b[0m: math domain error"
     ]
    }
   ],
   "source": [
    "triangle_area(2,1, 9)"
   ]
  },
  {
   "attachments": {},
   "cell_type": "markdown",
   "metadata": {},
   "source": [
    "## Area de una esfera\n",
    "\n",
    "La fórmula para el área de una esfera es la siguiente:\n",
    "\n",
    "$$area = 4 * \\pi * radio^{2}$$\n",
    "\n",
    "1. Crea una función que calcula el area de la esfera\n",
    "2. Usa el $\\pi$ de `math`"
   ]
  },
  {
   "cell_type": "code",
   "execution_count": 18,
   "metadata": {},
   "outputs": [
    {
     "name": "stdout",
     "output_type": "stream",
     "text": [
      "201.06192982974676\n"
     ]
    }
   ],
   "source": [
    "from math import pi\n",
    "\n",
    "def areaSphere(r):\n",
    "    f = (4*pi*r**2)\n",
    "    return f\n",
    "\n",
    "#r = int(input(\"Enter the value for radius \"))\n",
    "testr = 4\n",
    "print(areaSphere(testr))"
   ]
  },
  {
   "attachments": {},
   "cell_type": "markdown",
   "metadata": {},
   "source": [
    "## Volúmen de una esfera\n",
    "\n",
    "$$volumen = \\frac{4 *\\pi * radio^{3}}{3}$$\n",
    "\n",
    "1. función que recibe el radio y calcula el volumen\n",
    "2. Usa el $\\pi$ de `math`"
   ]
  },
  {
   "cell_type": "code",
   "execution_count": 19,
   "metadata": {},
   "outputs": [
    {
     "name": "stdout",
     "output_type": "stream",
     "text": [
      "268.082573106329\n"
     ]
    }
   ],
   "source": [
    "def volumeSphere(r):\n",
    "    v = ((4*pi*r**3)/3)\n",
    "    return v\n",
    "\n",
    "#r2 = int(input(\"Enter the value for radius \"))\n",
    "testr = 4\n",
    "print(volumeSphere(testr))"
   ]
  },
  {
   "attachments": {},
   "cell_type": "markdown",
   "metadata": {},
   "source": [
    "## Los gringos y sus unidades absurdas\n",
    "\n",
    "Cuando vivía en EEUU, una de las cosas que más problemas me dió fueron sus unidades desquiciadas: onzas, onzas fluidas, millas, yardas y un sinfín de absurdeces que hacen que una tarea cotidiana se convierta en un desafío hercúleo.\n",
    "\n",
    "La cosa, lamentablemente, no termina ahí. También usan subdivisiones de dichas unidades. Esas subdivisiones no pueden lógicamente, ser decimales. Normalmente usan octavos (tal cual).\n",
    "\n",
    "### Mi némesis particular: el octavo de milla\n",
    "\n",
    "Vas por la carretera y waze te pega un grito, diciendo que tienes que salir a la derecha dentro de *3 octavos de milla*. ¿Mande?\n",
    "\n",
    "![](octavos_de_milla.jpg)\n",
    "\n",
    "Te pones a echar cuentas, y cuando terminas, ves que era justo ahí atrás.\n",
    "\n",
    "Para evitar esto, vas a hacer una función que transforma octavos de milla en metros.\n",
    "\n",
    "1. Recibes el número de octavos de milla\n",
    "2. Tienes una variable dentro de tu fución con la correspondencia millas a metros (1609.344 metros por milla)\n",
    "3. Con eso calculas el total de metros y lo devuelves\n",
    "4. Usa la función `round` de Python (está en el ámbito global) para devolver un número entero (a nadie le importan los cm)\n",
    "   "
   ]
  },
  {
   "cell_type": "code",
   "execution_count": 19,
   "metadata": {},
   "outputs": [
    {
     "name": "stdout",
     "output_type": "stream",
     "text": [
      "1609\n"
     ]
    }
   ],
   "source": [
    "eighthmile = float(input(\"Insert the distance in eighth of miles \")) #miles in raw \n",
    "mile = 1609.344 #this is the conversion of a mile in meters\n",
    "meter = mile/8 # here, we convert miles to eighths of a mile\n",
    "def miletokm(eighthmile):    \n",
    "    result = eighthmile*meter #here, we convert eigths of miles to meters\n",
    "    return result\n",
    "\n",
    "print(round(miletokm(eighthmile)))"
   ]
  },
  {
   "attachments": {},
   "cell_type": "markdown",
   "metadata": {},
   "source": [
    "## Edad\n",
    "\n",
    "1. Crea una función que recibe tu año de nacimiento y calcula tu edad en años\n",
    "2. Crea una función que hace lo mismo pero te devuelve la edad en días (olvídate de los años bisiestos)\n",
    "\n",
    "¿Se podría reaprovechar al primera función a la hora de crear la segunda y no repetir código? **DRY**"
   ]
  },
  {
   "cell_type": "code",
   "execution_count": null,
   "metadata": {},
   "outputs": [],
   "source": []
  },
  {
   "attachments": {},
   "cell_type": "markdown",
   "metadata": {},
   "source": [
    "## BMI: índice de masa corporal\n",
    "\n",
    "La operación bikini se aproxima y lo primero es saber cúanto tienes que adelgazar. Para eso, nada mejor que el [BMI](https://www.nhlbi.nih.gov/health/educational/lose_wt/BMI/bmi-m.htm).\n",
    "\n",
    "EL BMI es un índice (un número) que se obtiene a partir de tu peso y altura y según dicho valor, se sabe si están en tu peso ideal, por encima del mismo o por debajo (no te lo crees ni tú).\n",
    "\n",
    "La fórmula, usando Kg para el peso y m para la altura es:\n",
    "\n",
    "$$bmi = \\frac{peso}{altura^{2}}$$\n",
    "\n",
    "1. crea la función `bmi` que recibe peso y altura (en Kg y m)\n",
    "2. devuelve el bmi\n",
    "\n"
   ]
  },
  {
   "cell_type": "code",
   "execution_count": 16,
   "metadata": {},
   "outputs": [
    {
     "name": "stdout",
     "output_type": "stream",
     "text": [
      "26.53\n"
     ]
    }
   ],
   "source": [
    "weight = float(input(\"Please, insert your weight in KG \"))\n",
    "height = float(input(\"Please, insert your height in meters \"))\n",
    "\n",
    "def bmiCalculator(weight, height):\n",
    "    bmi = weight / (height**2)\n",
    "    return bmi\n",
    "\n",
    "print (round(bmiCalculator(weight, height), 2))"
   ]
  },
  {
   "attachments": {},
   "cell_type": "markdown",
   "metadata": {},
   "source": [
    "## Euros a Pesetas\n",
    "\n",
    "Una función para los nostálgicos: vamos a convertir precios en Euros a Pesetas. La tasa de conversión es: 166 Pesetas por Euro.\n",
    "\n",
    "1. Crea la función `euro_to_pta` que recibe un número de euros y te devuelve la cantidad de Pesetas\n",
    "2. Ahora crea la función `pta_to_euro`que hace lo opuesto.\n",
    "   1. ¿Podrías implementar `pta_to_euro` llamando a `euro_to_pta` (para reaprovechar código)?\n",
    "   \n"
   ]
  },
  {
   "attachments": {},
   "cell_type": "markdown",
   "metadata": {},
   "source": [
    "## Energía cinética\n",
    "\n",
    "Crea la función cinetic_energy(mass, speed) que acepta la masa y la velocidad de un objeto y devuelve la energía cinética del objeto, calculada con la fórmula: E = (1/2)mv²."
   ]
  },
  {
   "attachments": {},
   "cell_type": "markdown",
   "metadata": {},
   "source": [
    "## 🛎️ 🧢 Funciones Reversibles\n",
    "\n",
    "Las funciones son mecanismos que transforman una cosa en otra: te llevan de A a B. Por ejemplo, te llevan de (peso, altura) a bmi, o de radio a area, etc.\n",
    "\n",
    "> Se dice que **mapean** su entrada a su salida\n",
    "\n",
    "![](función.png)\n",
    "\n",
    "A veces, se puede conseguir encontrar la *función inversa* de una cierta función:\n",
    "\n",
    "\n",
    "Si *f* es una función que te lleva de *A* a *B*,\n",
    "\n",
    "entonces *f_inv* es una función que te lleva de *B* a *A* \n",
    "\n",
    "> **f_inv** es la **inversa** de **f**\n",
    "\n",
    "### Ejercicio\n",
    "\n",
    "1. La función ¿`euro_to_peseta` es reversible?\n",
    "2. La función `abs` de Python ¿es reversible?\n",
    "3. La función `bmi` es reversible?\n",
    "\n",
    "### Funciones reversibles estimables\n",
    "\n",
    "Son aquellas que, aunque no se puede obtnere una función inversa de forma directa, *si tenemos más información*, podemos estimar un input probable a aprtir del output.\n",
    "\n",
    "Por ejermplo, la función `bmi`. \n",
    "\n",
    ">Si tenemos muchos datos de alturas y pesos promedios o cómo suelen ir emparejados, a partir de un bmi podríamos estimar posibles combinaciones de altura y peso que sean más probables.**Esto es lo que hace el Deep Learning y las redes neuronales**.\n",
    "\n",
    "### Funciones Irreversibles\n",
    "\n",
    "Son aquellas que son de un sólo sentido y no hay manera práctica de obtener su inversa. Tienen una enorme importancia en la Ciencia de la Computación, especialmente en la criptografía:\n",
    "\n",
    "![](cripto.png)\n",
    "\n",
    "\n",
    "* Cada vez que ves en tu browser una [URL](https://keepcoding.io/blog-frr/que-es-una-url-y-una-uri/) que empieza por `https`, quiere decir que todo lo que te manda el servidor y lo que mandas tú está encriptado mediante una función irreversible. Por ejemplo, cuando pones datos de tu tarjeta al comprar algo.\n",
    "* Otro caso, más sencillo de funciones irreversibles que veremso (por encima) son las *funciones hash* (más adelante)\n",
    "\n"
   ]
  },
  {
   "attachments": {},
   "cell_type": "markdown",
   "metadata": {},
   "source": [
    "## Ecuación de 2º Grado\n",
    "\n",
    "Tienes la siguiente *ecuación de segundo grado* (¿te acuerdas?):\n",
    "\n",
    "$$y = x^{2} + 3 * x - 2$$\n",
    "\n",
    "1. Crea la función que calcula y recibe x.\n",
    "\n",
    "### ¿Reversible?\n",
    "\n",
    "Las funciones (o ecuaciones) cuadráticas (2º grado) ¿son reversibles?"
   ]
  },
  {
   "attachments": {},
   "cell_type": "markdown",
   "metadata": {},
   "source": [
    "## 🛎️ Funciones Totales y Parciales\n",
    "\n",
    "Tenemos estas dos funciones matemáticas y tienes que crear las funciones de Python equivalentes\n",
    "\n",
    "$$a) f(x,y) = \\frac{x^{2} + y^{2}}{x - y}$$\n",
    "\n",
    "$$b) f(m,n) = \\frac{m^{2} - n^{2} + n}{m * n}$$\n",
    "\n",
    "\n",
    "1. Prueba ambas funciones con varios valores para asegurarte que funcionan bien.\n",
    "2. ¿Hay algún valor de x o y que haga que haga que (a) estalle?\n",
    "3. ¿Hay algún valor de m o n que haga que (b) estalle?\n",
    "4. En la función cuadrática anterior, ¿hay algún valor de x que haga que la función estalle?\n",
    "\n",
    "\n",
    "> Una función es **total** si acepta todos los posibles valores de sus parámetros.\n",
    "\n",
    "La *función cuadrática* anterior es **total**: acepta números y traga con cualquier número posible.\n",
    "\n",
    "> Una función es **parcial** si hay uno o más valores de sus parámetros que hacen que no pueda hacer su trabajo\n",
    "\n",
    "Las funciones (a) y (b) son **parciales**\n",
    "\n",
    "* Si x e y son iguales, a f(x,y) le dá un jamacuco\n",
    "* Si m o n son cero, a f(m,n) le dá un jamacuco\n",
    "\n",
    "\n",
    "## Conclusión\n",
    "\n",
    "Lo ideal sería que todas nuestras funciones fuesen *funciones totales*, facilitaría mucho nuestra vida. \n",
    "\n",
    "Como bien sabrás, la vida no es fácil y habrá muchas *funciones parciales* de por medio. En esos casos, \n",
    "\n",
    "* tendremos que identificar las *condiciones excepcionales* (los valores que causan el jamacuco)\n",
    "* cuando se den, tendremso que *gestionar dicho error*\n",
    "\n",
    "La *gestión de errores* se verá con calma más adelante, pero ya eres consciete de su necesidad.\n",
    "\n",
    "## Ejercicio\n",
    "\n",
    "Repasa todas las funciones que has creado hasta ahora y clasifícalas como *totales* o *parciales*. \n",
    "Si son parciales, identifica las *condiciones excepcionales*."
   ]
  },
  {
   "attachments": {},
   "cell_type": "markdown",
   "metadata": {},
   "source": [
    "## Distancia entre dos puntos en el plano cartesiano\n",
    "\n",
    "![](point_distance.gif)\n",
    "\n",
    "\n",
    " Si tenemos dos puntos:\n",
    "\n",
    " $$p_{1}(x_{1}, y_{1})$$ \n",
    " $$p_{2}(x_{2}, y_{2})$$\n",
    "\n",
    " su *distancia cartesiana* sería la siguiente:\n",
    "\n",
    " $$dc = \\sqrt{(x_{1} - x_{2})^{2} + (y_{1} - y_{2})^{2}}$$\n",
    "\n",
    "\n",
    " 1. Crear una función que recibe la xe y del primer punto y la x e y del segundo punto\n",
    " 2. Devuelve la distancia cartesiana\n",
    "\n",
    "\n",
    "### Curiosidad\n",
    "\n",
    "Esta es la *distancia cartesiana*, pero hay otros tipos de distancias definidas entre puntos.\n",
    "\n",
    "La *distancia cartesiana* es la primera que te muestra Google Maps o Waze cuando pides que te lleve a algún sitio. Normalmente cuando pides que calcule la ruta, te llevas un chasco, porque te da otra distancia mayor. ¿¿Por qué??\n",
    "\n",
    "Porque la distancia cartesiana sólo vale si puedes volar. Si tienes que ir entre calles, tendrás que dar vueltas y eso incrementa la distancia.\n",
    "\n",
    "> ¿Por qué crees que Google hace eso?\n",
    "\n",
    "\n",
    "Otra distancia, algo más realista para la navegación por ciudades, es la *distancia manhattan*. \n",
    "\n",
    "Averigua en la wikipedia qué es la distancia manhattan, por qué se llama así y cómo calcularla. Crea la función Python correspondiente.\n"
   ]
  },
  {
   "attachments": {},
   "cell_type": "markdown",
   "metadata": {},
   "source": [
    "------------------------\n",
    "\n",
    "# ¿Qué hemos aprendido?\n",
    "\n",
    "![](https://i.ytimg.com/vi/8PVeLqWnaXk/maxresdefault.jpg)\n",
    "\n",
    "* Las funciones pueden ser:\n",
    "  * Reversibles\n",
    "  * Irreversibles (buenas para cripto)\n",
    "  * Reversibles estimables (carne de red neuronal)\n",
    "  * Totales (chachi)\n",
    "  * Parciales (hay que identificar los errores y gestionarlos, con calma más adelante)\n",
    "\n",
    "Hay 3 tipos de abstraciones:\n",
    "* Variable\n",
    "* Función \n",
    "\n",
    "Los 2 casos son formas de vaguear, hacer más con menos y olvidarnos de detalles irrelevantes"
   ]
  },
  {
   "attachments": {},
   "cell_type": "markdown",
   "metadata": {},
   "source": [
    "A ejercicos de funciones de cadenas"
   ]
  }
 ],
 "metadata": {
  "kernelspec": {
   "display_name": "Python 3 (ipykernel)",
   "language": "python",
   "name": "python3"
  },
  "language_info": {
   "codemirror_mode": {
    "name": "ipython",
    "version": 3
   },
   "file_extension": ".py",
   "mimetype": "text/x-python",
   "name": "python",
   "nbconvert_exporter": "python",
   "pygments_lexer": "ipython3",
   "version": "3.12.2"
  }
 },
 "nbformat": 4,
 "nbformat_minor": 4
}
