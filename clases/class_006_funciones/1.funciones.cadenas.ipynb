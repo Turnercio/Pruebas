{
 "cells": [
  {
   "attachments": {},
   "cell_type": "markdown",
   "metadata": {},
   "source": [
    "# Funciones con Cadenas\n",
    "\n",
    "------------------"
   ]
  },
  {
   "attachments": {},
   "cell_type": "markdown",
   "metadata": {},
   "source": [
    "## Recordatorio\n",
    "\n",
    "\n",
    "Las operaciones que acepta una cadena son:\n",
    "\n",
    "* `+` para concatenar\n",
    "* `*` para extender\n",
    "\n",
    "Además hay otros operadores que podemos usar:\n",
    "\n",
    "### Indexado `[n]`\n",
    "\n",
    "Nos permite obtener el caracter que está en alguna posición. \n",
    "\n",
    "> Recuerda que los programadores emepzamos a contar en el cero\n",
    "\n",
    "```python\n",
    "\"lucas\"[0] #devolvería l\n",
    "```\n",
    "\n",
    "> El indexado puede ser negativo para indicar que se empieza por el final, y en ese caso representa la distancia desde el final\n",
    "\n",
    "```python\n",
    "\"lucas\"[-1] #devolvería s\n",
    "```\n",
    "\n",
    "### Slicing o *fileteado*\n",
    "\n",
    "Te permite obtener trozos o subcadenas.\n",
    "\n",
    "El slicing se realiza utilizando corchetes y dos puntos (:) para separar los índices de inicio, fin y, opcionalmente, el paso.\n",
    "\n",
    "La sintaxis general para el slicing es la siguiente:\n",
    "\n",
    "`secuencia[inicio:fin:paso]`\n",
    "\n",
    "Donde:\n",
    "\n",
    "* `inicio`: Es el índice del primer elemento que queremos incluir en la porción extraída. Si se omite, se asume el inicio de la secuencia (índice 0).\n",
    "* `fin`: Es el índice del elemento en el que queremos detenernos, sin incluirlo en la porción extraída. Si se omite, se asume el final de la secuencia.\n",
    "* `paso`: Es el número de índices entre elementos consecutivos en la porción extraída. Si se omite, se asume un paso de 1.\n",
    "  \n",
    "Algunos ejemplos de slicing en Python:\n",
    "\n",
    "\n",
    "```python\n",
    "cadena = \"Hola Mundo\"\n",
    "\n",
    "# Extraer los primeros 4 caracteres\n",
    "subcadena1 = cadena[:4]  # Resultado: \"Hola\"\n",
    "\n",
    "# Extraer los últimos 5 caracteres\n",
    "subcadena2 = cadena[-5:]  # Resultado: \"Mundo\"\n",
    "\n",
    "# Extraer los caracteres en posiciones impares\n",
    "subcadena3 = cadena[1::2]  # Resultado: \"oa ud\"\n",
    "\n",
    "# Invertir la cadena\n",
    "subcadena4 = cadena[::-1]  # Resultado: \"odnuM aloH\"\n",
    "```\n",
    "\n",
    "\n",
    "## Longitud\n",
    "\n",
    "La función `len` nos devuelve la longitud de una cadena.\n"
   ]
  },
  {
   "attachments": {},
   "cell_type": "markdown",
   "metadata": {},
   "source": [
    "# Ejercícios\n"
   ]
  },
  {
   "attachments": {},
   "cell_type": "markdown",
   "metadata": {},
   "source": [
    "Crea la función first_last(s) que acepta una cadena s y devuelve una nueva cadena con el primer y último caracteres de s."
   ]
  },
  {
   "attachments": {},
   "cell_type": "markdown",
   "metadata": {},
   "source": [
    "Crea la función reverse(s) que acepta una cadena s y devuelve la cadena invertida."
   ]
  },
  {
   "attachments": {},
   "cell_type": "markdown",
   "metadata": {},
   "source": [
    "Crea la función es_palindromo(s) que acepta una cadena s y devuelve True si s es un palíndromo (se lee igual hacia adelante y hacia atrás) y False si no lo es. Usa la función anterior."
   ]
  }
 ],
 "metadata": {
  "language_info": {
   "name": "python"
  },
  "orig_nbformat": 4
 },
 "nbformat": 4,
 "nbformat_minor": 2
}
