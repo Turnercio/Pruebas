{
 "cells": [
  {
   "cell_type": "code",
   "execution_count": 10,
   "metadata": {},
   "outputs": [
    {
     "name": "stdout",
     "output_type": "stream",
     "text": [
      "5.0\n"
     ]
    }
   ],
   "source": [
    "\n",
    "def rectangle_area(base, hight):\n",
    "    \"\"\" \n",
    "    This function solves the area of a rectangle\n",
    "    \"\"\"\n",
    "    f = (base * hight)\n",
    "    return f\n",
    "\"\"\"\n",
    "Here you have to insert the value of both sides\n",
    "\"\"\"\n",
    "side1 = float(input(\"Enter side 1 \"))\n",
    "side2 = float(input(\"Enter side 2 \"))\n",
    "\"\"\"  \n",
    "Here you call the function\n",
    "\"\"\"\n",
    "result = rectangle_area (side1, side2)\n",
    "\n",
    "print (result)"
   ]
  }
 ],
 "metadata": {
  "kernelspec": {
   "display_name": "Python 3",
   "language": "python",
   "name": "python3"
  },
  "language_info": {
   "codemirror_mode": {
    "name": "ipython",
    "version": 3
   },
   "file_extension": ".py",
   "mimetype": "text/x-python",
   "name": "python",
   "nbconvert_exporter": "python",
   "pygments_lexer": "ipython3",
   "version": "3.12.2"
  }
 },
 "nbformat": 4,
 "nbformat_minor": 2
}
