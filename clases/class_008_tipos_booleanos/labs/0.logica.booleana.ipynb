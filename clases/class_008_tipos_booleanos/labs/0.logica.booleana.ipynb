{
 "cells": [
  {
   "cell_type": "markdown",
   "metadata": {},
   "source": [
    "# Laboratorio de Lógica Booleana\n",
    "\n",
    "---------------"
   ]
  },
  {
   "cell_type": "markdown",
   "metadata": {},
   "source": [
    "\n",
    "En este ejercicio, así como en otros que vienen más adelante, el ordenador serás tú. Es esencial que no acudas a Python para resolverlos, ya que te tienes que acostumbrar a pensar de manera formal.\n",
    "\n",
    "Es posible que no le veas mucho la utilidad, pero recuerda que Daniel-san tampoco veía la utilidad del \"Poner cera, pulir cera\".\n",
    "\n",
    "[![IMAGE ALT TEXT](http://img.youtube.com/vi/oDFK8m2UTuU/0.jpg)](http://www.youtube.com/watch?v=oDFK8m2UTuU \"Video Title\")"
   ]
  },
  {
   "cell_type": "markdown",
   "metadata": {},
   "source": [
    "## Evaluación\n",
    "\n",
    "Evalúa, tú solito, con papel y lápiz cada una de estas expresiones. Luego puedes comprobarlas con Python\n",
    "\n",
    "1. `True and False`\n",
    "2. `False and True`\n",
    "3. `False or True`\n",
    "4. `True or False`\n",
    "5. `False or False`\n",
    "6. `not True and True` Recuerda que `not` tiene prioridad\n",
    "7. `not (True and False)`\n",
    "8. `not False and (not True or True)`\n",
    "9. `not(not False or (True or not (False or True)))`"
   ]
  }
 ],
 "metadata": {
  "kernelspec": {
   "display_name": "Python 3 (ipykernel)",
   "language": "python",
   "name": "python3"
  },
  "language_info": {
   "codemirror_mode": {
    "name": "ipython",
    "version": 3
   },
   "file_extension": ".py",
   "mimetype": "text/x-python",
   "name": "python",
   "nbconvert_exporter": "python",
   "pygments_lexer": "ipython3",
   "version": "3.11.3"
  }
 },
 "nbformat": 4,
 "nbformat_minor": 2
}
