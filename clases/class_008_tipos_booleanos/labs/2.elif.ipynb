{
 "cells": [
  {
   "cell_type": "markdown",
   "metadata": {},
   "source": [
    "# Condiciones booleanas más complejas\n",
    "\n",
    "--------------------------"
   ]
  },
  {
   "cell_type": "markdown",
   "metadata": {},
   "source": [
    "## Ejercicio 1\n",
    "\n",
    "En Renfe te encargan una función para determinar el precios de los billetes con la siguiente promoción:\n",
    "\n",
    "* El billete de ida y vuelta a cualquier ciudad de España cuesta €0.1 por Km recorrido en el primer tramo.\n",
    "* Si la distancia es superior a 600 Km, el precio por Km baja a €0.08.\n",
    "* Si la distancia es inferior a 100 km, el coste por km es de €0.17\n",
    "* Si la vuelta es 7 días o más después de la ida, el precio total tiene un descuento del 12%.\n",
    "\n",
    "Crea la función `ticket_cost` que recibe: distancia en km al destino final y número de dias entre la ida y la vuelta. Debe de devolver el coste total.\n",
    "\n",
    "* ¿Es una función total o parcial?"
   ]
  },
  {
   "cell_type": "code",
   "execution_count": 14,
   "metadata": {},
   "outputs": [
    {
     "name": "stdout",
     "output_type": "stream",
     "text": [
      "49.28\n"
     ]
    }
   ],
   "source": [
    "\n",
    "\n",
    "\n",
    "def ticket_cost(dist, days):\n",
    "        \n",
    "    if dist > 600:\n",
    "        ppkm = .08\n",
    "    elif dist < 100:\n",
    "        ppkm = .17\n",
    "    else:\n",
    "        ppkm = 0.1\n",
    "    \n",
    "    costo_primer_tramo = float(dist * ppkm)\n",
    "\n",
    "    if days >= 7:\n",
    "        discount = .88\n",
    "    else:\n",
    "        discount = 1\n",
    "\n",
    "    return costo_primer_tramo * discount\n",
    "\n",
    "print (float(ticket_cost(700, 8)))"
   ]
  },
  {
   "cell_type": "markdown",
   "metadata": {},
   "source": [
    "# Ejercicio 2\n",
    "\n",
    "En Naciones Unidas, para determinar el sueldo de un empleado, se clasifican los puestos con una letra y un número (G1, G2, P1,P2,P3, P4, P5, P6, D1, D2). Las letras se corresponden a \"General\", \"Profesional\" y \"Directivo\".\n",
    "\n",
    "Se van a actualizar los sueldos de los de nivel P. Se te encarga que escribas una función `salary_rise` que devuelva el porcentaje que le corresponde a cada uno de los P, siguendo los datos de abajo:\n",
    "\n",
    "* P1: 20%\n",
    "* P2: 22%\n",
    "* P3: 21%\n",
    "* P4: 19%\n",
    "* P5: 24%\n",
    "* P6: 15%\n",
    "\n",
    "la función recibe le número (sin la p) y devuelve el porcentaje que corresponde.\n",
    "\n",
    "* ¿Es una función total o parcial?"
   ]
  },
  {
   "cell_type": "code",
   "execution_count": 2,
   "metadata": {},
   "outputs": [
    {
     "name": "stdout",
     "output_type": "stream",
     "text": [
      "15\n"
     ]
    }
   ],
   "source": [
    "rank = float(input(\"Enter your rank without the letter P \"))\n",
    "def salary_rise(rank):\n",
    "    if rank == 1:\n",
    "        return 20\n",
    "    elif rank == 2:\n",
    "        return 22\n",
    "    elif rank == 3:\n",
    "        return 21\n",
    "    elif rank == 4:\n",
    "        return 19\n",
    "    elif rank == 5:\n",
    "        return 24\n",
    "    else:\n",
    "        return 15\n",
    "    \n",
    "print (salary_rise(rank))\n",
    "\n",
    "    "
   ]
  },
  {
   "cell_type": "markdown",
   "metadata": {},
   "source": [
    "## Ejercicio 3\n",
    "\n",
    "Crea una función `bigger` que recibe dos números.\n",
    "\n",
    "* Si son iguales, devuelve cualquiera de ellos\n",
    "* Sino, devuelve el que sea mayor."
   ]
  },
  {
   "cell_type": "markdown",
   "metadata": {},
   "source": [
    "## Ejercicio 4\n",
    "\n",
    "Crea una función que recibe  la calificación de un estudiante (entre 0 y 100). \n",
    "\n",
    "Devuelve la clasificación correspondiente: \"Sobresaliente\" (90-100), \"Notable\" (80-89), \"Aprobado\" (65-79) o \"Reprobado\" (0-64)."
   ]
  },
  {
   "cell_type": "markdown",
   "metadata": {},
   "source": [
    "## Ejercicio 5\n",
    "\n",
    "![](cuadrante.jpg)\n",
    "\n",
    "Crea la función `classify` que recibe las coordenadas de un punto (x, y) en el plano cartesiano. \n",
    "\n",
    "Devuelve una cadena que indica  en qué cuadrante se encuentra el punto (\"primer\", \"segundo\", \"tercer\" o \"cuarto cuadrante\") o si está sobre alguno de los ejes (\"eje x\", \"eje y\"), o por último, si está en el origen (\"origen\").\n",
    "\n",
    "* ¿Es una función parcial o total?"
   ]
  },
  {
   "cell_type": "code",
   "execution_count": 18,
   "metadata": {},
   "outputs": [
    {
     "name": "stdout",
     "output_type": "stream",
     "text": [
      "Primer cuadrante\n",
      "Cuarto cuadrante\n",
      "Segundo cuadrante\n",
      "tercer cuadrante\n",
      "Eje X\n",
      "Eje Y\n",
      "Origen\n"
     ]
    }
   ],
   "source": [
    "def classify(x, y):\n",
    "    if x == 0 and y == 0:\n",
    "        cuadrante = \"Origen\"\n",
    "    elif x == 0:\n",
    "        cuadrante = \"Eje Y\"\n",
    "    elif y == 0:\n",
    "        cuadrante = \"Eje X\"\n",
    "    elif x > 0 and y > 0:\n",
    "        cuadrante = \"Primer cuadrante\"\n",
    "    elif x < 0 and y > 0:\n",
    "        cuadrante =\"Segundo cuadrante\"\n",
    "    elif x < 0 and y < 0:\n",
    "        cuadrante = \"tercer cuadrante\"\n",
    "    else:\n",
    "        cuadrante = \"Cuarto cuadrante\"\n",
    "\n",
    "    return cuadrante\n",
    "\n",
    "print (classify(3, 3))\n",
    "print (classify(3, -3))\n",
    "print (classify(-3, 3))\n",
    "print (classify(-3, -3))\n",
    "print (classify(3, 0))\n",
    "print (classify(0, 3))\n",
    "print (classify(0, 0))\n"
   ]
  },
  {
   "cell_type": "markdown",
   "metadata": {},
   "source": [
    "## Ejercicio 6\n",
    "\n",
    "Crea la función `is_leap` que recibe un año y determina si un año es bisiesto.\n",
    "\n",
    "Un año es bisiesto si es divisible entre 4, excepto aquellos divisibles entre 100 pero no entre 400.\n",
    "\n",
    "* ¿Es un predicado?\n",
    "\n"
   ]
  },
  {
   "cell_type": "code",
   "execution_count": 30,
   "metadata": {},
   "outputs": [
    {
     "name": "stdout",
     "output_type": "stream",
     "text": [
      "False\n",
      "True\n",
      "True\n",
      "False\n"
     ]
    }
   ],
   "source": [
    "def is_leap(year):\n",
    "    if year % 400 != 0 and year % 100 == 0:\n",
    "        result = False\n",
    "    elif year % 4 == 0:\n",
    "        result = True\n",
    "    elif year % 4 != 0:\n",
    "        result = False\n",
    "    return result\n",
    "\n",
    "print (is_leap(2023))\n",
    "print (is_leap(2024))\n",
    "print (is_leap(2000))\n",
    "print (is_leap(1900))\n"
   ]
  },
  {
   "cell_type": "markdown",
   "metadata": {},
   "source": [
    "# Ejercicio 7\n",
    "\n",
    "Función que recibe una edad y la clasifica de la siguiene manera:  \n",
    "* \"Infancia\" (0-12 años), \n",
    "* \"Adolescencia\" (13-17 años), \n",
    "* \"Jueventud\" (18-29 años), \n",
    "* \"Adultez\" (30-59 años) \n",
    "* \"Vejez\" (60+ años)\n",
    "\n",
    "* ¿Es una función parcial o total?\n",
    "* ¿Es un predicado?"
   ]
  },
  {
   "cell_type": "markdown",
   "metadata": {},
   "source": [
    "## Ejercicio 8\n",
    "\n",
    "¿Recuerdas la función `bmi` que recibia una altura y peso y te devolvía un índice?\n",
    "\n",
    "Crea la función `classify_bmi`que recib eun bmi y devuelve una cadena indicando en qué rango está:\n",
    "\n",
    "* \"Delgado\"  : bmi < 18.5 \n",
    "* \"Saludable\": 18.5 < bmi < 24.9\n",
    "* \"Gordito\"  : 25 a 29.9\n",
    "* \"Gordo\"    : 30 a 34.9\n",
    "* \"Obeso\"    : 35 a 39.9\n",
    "* \"Jabba the Hutt\" : más de 40\n",
    "\n",
    "\n"
   ]
  },
  {
   "cell_type": "markdown",
   "metadata": {},
   "source": [
    "## Ejercicio 9\n",
    "\n"
   ]
  },
  {
   "cell_type": "markdown",
   "metadata": {},
   "source": [
    "## Ejercios extra\n",
    "\n",
    "Los ha creado un amigo que luego os presentaré.\n",
    "\n",
    "Recuerda utilizar las sentencias condicionales if, else y, si es necesario, elif en la implementación de las funciones para controlar el flujo del programa y devolver el resultado adecuado en función de los argumentos proporcionados."
   ]
  },
  {
   "cell_type": "markdown",
   "metadata": {},
   "source": [
    "\n",
    "Crea la función `days_in_month`(month, year) que acepta un número de mes (1-12) y un año, y devuelve la cantidad de días que tiene ese mes. Asegúrate de tener en cuenta si es un año bisiesto para febrero."
   ]
  },
  {
   "cell_type": "markdown",
   "metadata": {},
   "source": [
    "Crea la función color_semaforo(color) que acepta el color de la luz en un semáforo (rojo, amarillo o verde) y devuelve una cadena que indica qué acción debe tomar un conductor: detenerse, precaución o avanzar."
   ]
  },
  {
   "cell_type": "markdown",
   "metadata": {},
   "source": [
    "Crea la función estacion_del_anno(mes) que acepta un mes (1-12) y devuelve una cadena que indica la estación del año correspondiente en el hemisferio norte: primavera, verano, otoño o invierno.\n",
    "\n",
    "Averigua por tu cuneta cuando empieza cada estación."
   ]
  },
  {
   "cell_type": "markdown",
   "metadata": {},
   "source": [
    "Crea la función rango_velocidad(velocidad) que acepta una velocidad en km/h y devuelve una cadena que indica si la velocidad es \"Lenta\", \"Moderada\", \"Rápida\" o \"Muy rápida\"."
   ]
  },
  {
   "cell_type": "markdown",
   "metadata": {},
   "source": [
    "Crea la función tipo_triangulo(a, b, c) que acepta las longitudes de los tres lados de un triángulo y devuelve una cadena que indica si el triángulo es equilátero, isósceles o escaleno."
   ]
  },
  {
   "cell_type": "markdown",
   "metadata": {},
   "source": [
    "Crea la función es_vocal(letra) que acepta un carácter y devuelve True si es una vocal (mayúscula o minúscula) y False si no lo es.\n",
    "\n",
    "Un caácter es una cadena que sólo tiene una letra. Por ejemplo \"u\" es un carácter, pero \"uau\" no lo es.\n"
   ]
  },
  {
   "cell_type": "markdown",
   "metadata": {},
   "source": [
    "\n",
    "Crea la función calcular_precio_final(precio, impuesto, descuento) que acepta el precio original de un producto, el porcentaje de impuesto y el porcentaje de descuento, y devuelve el precio final después de aplicar el impuesto y el descuento.\n"
   ]
  },
  {
   "cell_type": "markdown",
   "metadata": {},
   "source": [
    "\n",
    "Crea la función numero_a_palabras(numero) que acepta un número entero entre 1 y 10 y devuelve una cadena con el número en palabras (por ejemplo, \"uno\", \"dos\", etc.). Si el número está fuera del rango, devuelve \"Número fuera de rango\".\n"
   ]
  },
  {
   "cell_type": "markdown",
   "metadata": {},
   "source": [
    "\n",
    "Crea la función multiplo_de(numero, base) que acepta dos números enteros y devuelve True si el primer número es múltiplo del segundo, y False en caso contrario.\n"
   ]
  },
  {
   "cell_type": "markdown",
   "metadata": {},
   "source": [
    "\n",
    "Crea la función calcula_tarifa(edad) que acepta la edad de un visitante y devuelve el precio de la entrada a un evento. Si el visitante es menor de 5 años, la entrada es gratuita; si tiene entre 5 y 18 años, el precio es de 10 dólares; y si tiene 19 años o más, el precio es de 15 dólares.\n"
   ]
  },
  {
   "cell_type": "markdown",
   "metadata": {},
   "source": [
    "\n",
    "Crea la función clasifica_numeros(a, b, c) que acepta tres números enteros y devuelve una cadena que indica si los números están en orden ascendente, descendente o si no tienen un orden específico.\n"
   ]
  },
  {
   "cell_type": "markdown",
   "metadata": {},
   "source": [
    "\n",
    "Crea la función tiempo_a_segundos(horas, minutos, segundos) que acepta horas, minutos y segundos y devuelve el tiempo total en segundos.\n"
   ]
  },
  {
   "cell_type": "markdown",
   "metadata": {},
   "source": [
    "\n",
    "Crea la función puntuacion_juego(puntuacion) que acepta la puntuación en un juego y devuelve una cadena que indica el rango de puntuación: \"Principiante\" (0-500), \"Intermedio\" (501-2000) o \"Experto\" (más de 2000)."
   ]
  }
 ],
 "metadata": {
  "kernelspec": {
   "display_name": "Python 3 (ipykernel)",
   "language": "python",
   "name": "python3"
  },
  "language_info": {
   "codemirror_mode": {
    "name": "ipython",
    "version": 3
   },
   "file_extension": ".py",
   "mimetype": "text/x-python",
   "name": "python",
   "nbconvert_exporter": "python",
   "pygments_lexer": "ipython3",
   "version": "3.12.2"
  }
 },
 "nbformat": 4,
 "nbformat_minor": 2
}
