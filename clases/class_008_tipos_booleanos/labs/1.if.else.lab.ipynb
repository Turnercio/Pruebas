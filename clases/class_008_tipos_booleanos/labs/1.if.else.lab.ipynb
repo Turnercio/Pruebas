{
 "cells": [
  {
   "cell_type": "markdown",
   "metadata": {},
   "source": [
    "# Ejercicios if else\n",
    "\n",
    "-------------------------------"
   ]
  },
  {
   "cell_type": "markdown",
   "metadata": {},
   "source": [
    "## Ejercicio 1\n",
    "\n",
    "Tienes que clasificar los exámenes de un montón de alumnos. Dichos exámenes tienen una nota numérica del 0 al 10. El mínimo para aprobar está en un 7.\n",
    "\n",
    "Crea una función `passes_test` que recibe una nota numérica y devuelve `True` si es igual o superior a 7 y `False`en caso contrario."
   ]
  },
  {
   "cell_type": "code",
   "execution_count": 12,
   "metadata": {},
   "outputs": [
    {
     "name": "stdout",
     "output_type": "stream",
     "text": [
      "True\n"
     ]
    }
   ],
   "source": [
    "note = float(input(\"Enter your score \"))\n",
    "approval_note = 7\n",
    "\n",
    "def passes_test (note):\n",
    "    if note >= approval_note:\n",
    "        return True\n",
    "\n",
    "    else:\n",
    "        return False\n",
    "\n",
    "print (passes_test(note))"
   ]
  },
  {
   "cell_type": "code",
   "execution_count": null,
   "metadata": {},
   "outputs": [],
   "source": []
  },
  {
   "cell_type": "markdown",
   "metadata": {},
   "source": [
    "## Ejercicio 2\n",
    "\n",
    "Aunque parezca mentira, se puede usar el sonido de los grillos para saber la temperatura. La frecuencia del grillo (ruídos por minuto) depende de su metabolismo, que a su vez depende de la temperatura.\n",
    "\n",
    "La fórmula para obetner la temperatura a partir de la frecuencia (en minto) es la siguiente:\n",
    "\n",
    "$$ temperatura = 10 + \\frac{frecuencia - 40}{7}$$\n",
    "\n",
    "Crea la función `temp` que reibe la frecuencia y chirridos por minuto y te devulve la temperatura.\n",
    "\n",
    "\n",
    "### ¡OJO¡ Esto sólo es válido par t > 0\n",
    "\n",
    "Nuestra función no es total, es parcial y deberíamos tener en cuenta la condición excepcional (t<=0) y gestionar dicho error. Aun no sabemso cómo hacerlo, pero lo veremos luego.\n",
    "\n"
   ]
  },
  {
   "cell_type": "code",
   "execution_count": 32,
   "metadata": {},
   "outputs": [
    {
     "name": "stdout",
     "output_type": "stream",
     "text": [
      "10.0\n"
     ]
    }
   ],
   "source": [
    "\n",
    "frequency = float(input(\"insert the frequency \"))\n",
    "\n",
    "def temperature(frequency):\n",
    "    temp = 10 + ((frequency -40)/7)\n",
    "    if temp < 0:\n",
    "        temp=0\n",
    "    return temp\n",
    "\n",
    "print (temperature(frequency))"
   ]
  },
  {
   "cell_type": "markdown",
   "metadata": {},
   "source": [
    "## Ejercicio 3\n",
    "\n",
    "En una empresa quieren subir el sueldo a todos los empleados cuyo sueldo sea inferior a un cierto nivel.\n",
    "\n",
    "Crea la función `new_salary` que recibe el sueldo actual. Si dicho sueldo es inferior o igual a €1000, le aplica un incremento del 8%. Si no, se queda como está."
   ]
  },
  {
   "cell_type": "code",
   "execution_count": 27,
   "metadata": {},
   "outputs": [
    {
     "name": "stdout",
     "output_type": "stream",
     "text": [
      "None\n"
     ]
    }
   ],
   "source": [
    "current_salary = float(input(\"Enter your salary \"))\n",
    "\n",
    "def new_salary(current_salary):\n",
    "    if  current_salary <= 1000:\n",
    "        return current_salary * 1.08\n",
    "    else:\n",
    "        return current_salary\n",
    "    \n",
    "print (new_salary(current_salary))"
   ]
  },
  {
   "cell_type": "markdown",
   "metadata": {},
   "source": [
    "### Ejercicio 3.1\n",
    "\n",
    "Si has hecho algo así:\n",
    "\n",
    "```python\n",
    "def new_salary(old_salary):\n",
    "    if old_salary <= 1000:\n",
    "        return old_salary * 1.08\n",
    "    else:\n",
    "        return old_salary\n",
    "```\n",
    "\n",
    "No está mal, pero el fantasma de Edsger Dijkstra (averigua quién fue) te perseguirá toda tu vida:\n",
    "\n",
    "> Una función sólo puede tener un punto de salida, es decir, un sólo return\n",
    "\n",
    "¿Qué harias para tener un sólo return?\n"
   ]
  },
  {
   "cell_type": "markdown",
   "metadata": {},
   "source": [
    "### Ejercicio 3.2\n",
    "\n",
    "Ya tienes la función como le gustaría al programador más gruñón de la historia:\n",
    "\n",
    "```python\n",
    "def new_salary(old_salary):\n",
    "    new_salary = old_salary\n",
    "    if old_salary <= 1000:\n",
    "        new_salary =  old_salary * 1.08\n",
    "    return new_salary\n",
    "```\n",
    "\n",
    "Al mes siguiente te dicen que se equivocaron y que quieren subirle el sueldo a todos los que tengan un sueldo inferior a €1200, un 9%.\n",
    "\n",
    "¿Cómo usarias la misma función, haciendo las menores modificaciones posibles y sabiendo que es muy probable que lo vuelvan a cambiar en el futuro?\n",
    "\n",
    "> Parametriza todo y usa valores por defecto para los valores comunes."
   ]
  },
  {
   "cell_type": "code",
   "execution_count": null,
   "metadata": {},
   "outputs": [],
   "source": [
    "def new_salary(old_salary, threshold = 1200, rise = 0.09 ):\n",
    "    new_salary = old_salary\n",
    "    if old_salary <= threshold:\n",
    "        new_salary = old_salary * (1 + rise)\n",
    "    return new_salary\n"
   ]
  },
  {
   "cell_type": "markdown",
   "metadata": {},
   "source": [
    "## Ejercicio 4\n",
    "\n",
    "Modifica todos los ejercicios anterior para que tengan un solo return"
   ]
  },
  {
   "cell_type": "markdown",
   "metadata": {},
   "source": [
    "## Ejercicio 5\n",
    "\n",
    "¡Primavera en El Corte Inglés! Si en tu carta de compra tienes un total superior a €1400, se te aplicará un descuento del 15%.\n",
    "\n",
    "Crea la función `discount` que recibe el total y devuelve el descuento en euros. Si el total es €1400 o más, se devuelve el nuevo precio con el descuento aplicado.\n",
    "\n",
    "Si la compra es de menos de €1400, el descuento no se aplica y la función devuelve el total original."
   ]
  },
  {
   "cell_type": "code",
   "execution_count": 37,
   "metadata": {},
   "outputs": [
    {
     "name": "stdout",
     "output_type": "stream",
     "text": [
      "1190.0\n"
     ]
    }
   ],
   "source": [
    "chart = float(input(\"Enter the amount of money \"))\n",
    "desirable_chart = 1400\n",
    "\n",
    "def discount(chart):\n",
    "    if chart >= desirable_chart:\n",
    "        total = chart * 0.85        \n",
    "    else:\n",
    "        total = chart\n",
    "    return total\n",
    "print (discount(chart))"
   ]
  },
  {
   "cell_type": "markdown",
   "metadata": {},
   "source": [
    "## Ejercicio 6\n",
    "\n",
    "Se ha descubierto que el consumo de cerveza (en litros) por persona y al mes puede ser estimado según la temperatura promedio de dicho mes (en Celsius).\n",
    "\n",
    "La fórmula encontrada es la siguiente\n",
    "\n",
    "$$litros = 1.2 * temp - 22$$\n",
    "\n",
    "\n",
    "1. Crea la función `beer_per_month` que estima esa fórmula: recibe la temperatura y devuelve los litros por barba (estimados)\n",
    "   1. ¿Es una función total o parcial?\n",
    "2. Crea la función `is_too_much_beer` que recibe la temperatura, los litros que una persona ha bebido y devuelve `True` si la persona se está pasando (bebiendo más del promedio) y `False` en caso contrario.\n",
    "3. Ahora crea la función `is_too_little_beer` que recibe lo mimso que la anterior, pero devuelve `True` si está bebiendo de menos y `False` si bebe de más.\n",
    "   1. ¿Seguro que no hay una forma más sencilla de hacerlo?"
   ]
  },
  {
   "cell_type": "code",
   "execution_count": 38,
   "metadata": {},
   "outputs": [
    {
     "name": "stdout",
     "output_type": "stream",
     "text": [
      "2.0\n"
     ]
    }
   ],
   "source": [
    "temperature = float(input(\"insert the temperature of the last month \"))\n",
    "\n",
    "def beer_per_month (temperature):\n",
    "    liters = 1.2*temperature - 22\n",
    "    return liters\n",
    "print (float(beer_per_month(temperature)))\n",
    "\n",
    "def is_too_much_beer(beer_per_month):\n",
    "    \n"
   ]
  },
  {
   "cell_type": "markdown",
   "metadata": {},
   "source": [
    "## Ejercicio 7\n",
    "\n",
    "Hay un operador aritmético llamado *módulo* que no hemos visto hasta ahora. Funciona como la división, pero el resultado que te dá es el *resto de la división entera*.\n",
    "\n",
    "Por ejemplo, `3 / 2` devuelve `1.5`, mientras que `3 % 2` devuelve `0.5`.\n",
    "\n",
    "\n",
    "Esto nos permite saber si un nomero es divisible por otro: si el resultado de la operación es cero.\n",
    "\n",
    "Crea dos funciones `is_even` y `is_odd` que reciben un número y determinar si éste es par o impar, respectivamente."
   ]
  },
  {
   "cell_type": "code",
   "execution_count": 43,
   "metadata": {},
   "outputs": [
    {
     "name": "stdout",
     "output_type": "stream",
     "text": [
      "True\n",
      "False\n"
     ]
    }
   ],
   "source": [
    "num = int(input(\"Insert a number\"))\n",
    "\n",
    "def is_even(num):\n",
    "    return num%2 == 0\n",
    "    \n",
    "def is_odd(num):\n",
    "    return num%2 != 0\n",
    "\n",
    "print (is_even(num))\n",
    "print (is_odd(num))"
   ]
  },
  {
   "cell_type": "markdown",
   "metadata": {},
   "source": [
    "## Ejercicio 8\n",
    "\n",
    "Crea la función `has_suffix(string, prefix)` que recibe dos cadenas y devuelve `True` la segunda es un prefijo de la primera.\n",
    "\n",
    "Es decir `has_suffix(\"hola mundo\", \"hola\")` devolvería `True`.\n",
    "\n",
    "**Pista** Si `prejijo` es más largo que `string`, ¿hace falta comparar algo?\n",
    "\n",
    "* Crea la función `is_suffix`, que hace lo opuesto: comprueba si la segunda cadena es un sufijo de la primera\n",
    "  "
   ]
  },
  {
   "cell_type": "markdown",
   "metadata": {},
   "source": [
    "## Predicados\n",
    "\n",
    "Hemos visto algunso ejemplos de funciones que reciben algún tipo, y devuelven un `bool`.  \n",
    "\n",
    "A esas funciones se les llama *predicados* (del Latín *predicare*, afrimar, hacer saber) y son muy comunes e importantes. \n",
    "\n",
    "Sirven normalmente como un test, para saber si el valor de entrada supera o no alguna condición.\n",
    "\n",
    "Veremos muchos *predicados* por el camino.\n",
    "\n",
    "### Nomenclatura\n",
    "\n",
    "Suelen tener nombres que empiezan por *is* (es), *has* (tiene) etc.\n",
    "\n",
    "Por ejemplo:\n",
    "\n",
    "* `is_even`, `is_male`, etc\n",
    "* `has_discount`, `has_cookies`, etc\n",
    "\n"
   ]
  }
 ],
 "metadata": {
  "kernelspec": {
   "display_name": "Python 3 (ipykernel)",
   "language": "python",
   "name": "python3"
  },
  "language_info": {
   "codemirror_mode": {
    "name": "ipython",
    "version": 3
   },
   "file_extension": ".py",
   "mimetype": "text/x-python",
   "name": "python",
   "nbconvert_exporter": "python",
   "pygments_lexer": "ipython3",
   "version": "3.12.2"
  }
 },
 "nbformat": 4,
 "nbformat_minor": 2
}
