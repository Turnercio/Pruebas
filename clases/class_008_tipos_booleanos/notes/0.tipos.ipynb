{
 "cells": [
  {
   "cell_type": "markdown",
   "metadata": {},
   "source": [
    "# 🛎️ 🧢 ¿Qué es un tipo?\n",
    "\n",
    "\n",
    "Un tipo es un concepto que se usa para agrupar y organizar cosas que tienen algo (o mucho) en común. Por ejemplo:\n",
    "\n",
    "* Un ornitorrinco, un perro y tú, sois *mamíferos*. *Mamífero* es el **tipo** de animal que sois (con todo respeto).\n",
    "* Un Ford Fiesta, un Tesla modelo X y un Dos Caballos son *coches*. *Coche* es el **tipo** de máquina que son.\n",
    "* Rosalía y Rauw son *horteras*. *Hortera* es el **tipo** de Persona que son.\n",
    "\n",
    "> Un **tipo** es un conjunto de cosas\n",
    "\n",
    "> A esas *cosas* las llamaremos **instancias del tipo**\n",
    "\n",
    "1. Tú, el ornitorrinco y el perro, sois **instancias** del **tipo** Mamífero.\n",
    "2. El Ford Fiesta, el Tesla y el Dos Caballos son **instancias** del **tipo** Coche.\n",
    "3. Rosalía y Rauw (que Dios los perdone) son **instancias** del **tipo** Hortera.\n",
    "\n",
    "![](tipos_ordinarios.png)\n",
    "\n"
   ]
  },
  {
   "cell_type": "markdown",
   "metadata": {},
   "source": [
    "## Los tipos, pueden a su vez ser instancias de otros tipos\n",
    "\n",
    "No es nada raro y lo vemos todos los días.\n",
    "\n",
    "1. Mamífero es una *instancia* del **tipo** Animal.\n",
    "2. Coche es una *instancia* del **tipo** Máquina.\n",
    "3. Hortera es una *instancia* del **tipo** Persona, que a su vez es una **instancia** del **tipo** Animal.\n",
    "\n",
    "Ni momento Inception ni leches, es bien normal."
   ]
  },
  {
   "cell_type": "markdown",
   "metadata": {},
   "source": [
    "## 🛎️ Tipos en Programación\n",
    "\n",
    "> Los Tipos se usan en programación para organizar los datos, según su, ehem, tipo.\n",
    "\n",
    "\n",
    "* `\"hola\"`, `\"Rigoberto\"`, `\"\"` y `\"3\"` son todos del tipo Cadena.\n",
    "* `3`, `-10`, `-15937463`son todos del tipo Número\n",
    "\n",
    "### Número de Instancias\n",
    "\n",
    "Los tipos que vimos al principio (Animal, Coche y Hortera) tienen todos un *número finito de instancias*. Es decir, no hay infinidad de modelos de coches, ni de animales, ni tampoco (aunque parezca mentira) de horteras.\n",
    "\n",
    "También hay tipos que contienen una *infinidad de instancias*. Por ejemplo, el tipo *Cosas que no son verdes*: podríamos estar hasta el fin de los tiempos recitando cosas que no son verdes (no lo haremos).\n",
    "\n",
    "En programación esto también es común:\n",
    "\n",
    "1. ¿Cuantas instancias tiene el tipo *Cadena*? Olvídate de limitaciones de memoria.\n",
    "2. ¿Cuantas instancias tiene el tipo *Número*? Olvídate de limitaciones de memoria.\n",
    "\n",
    "Dentro de poco veremos un tipo que sólo tiene 2 instancias."
   ]
  },
  {
   "cell_type": "markdown",
   "metadata": {},
   "source": [
    "## Tipos de Python vistos hasta ahora\n",
    "\n",
    "Hagamos un repaso.\n",
    "\n",
    "### Cadenas\n",
    "\n",
    "En realidad, en Python se llaman `str` (de String).\n",
    "\n",
    "> Un tipo es un conjunto de valores y las operaciones que se pueden hacer sobre ellos\n",
    "\n",
    "Las operaciones que se pueden hacer sobre las cadenas son los operadores que ya hemos visto y un más que veremso ahora.\n",
    "\n",
    "* `+` : concatenar\n",
    "* `*` : extender\n",
    "* `[]`: extraer elementos\n",
    "* `[:]`: *slicing* o fileteado. \n",
    "\n",
    "Los dos últimos los veremos en un lab.\n",
    "\n",
    "### Números\n",
    "\n",
    "En realidad, son varios tipos, por razones debidas al hardware de los procesadores y que no vienen muy a cuento.\n",
    "\n",
    "Los más comunes son:\n",
    "\n",
    "* `int`:Números enteros, como el 0, 5, 42 y 1222345893\n",
    "* `float`:Números decimales o de *coma flotante*. Por ejemplo 1.0, 3.12345, ó 4.145555555555555111111111111111111111111111111111111\n",
    "\n",
    "También hay números complejos, pero no los usaremos.\n",
    "\n",
    "Las operaciones estos tipos son las que ya conocemos:\n",
    "\n",
    "* `+`, `-`\n",
    "* `*`, `/`\n",
    "* `**`\n",
    "* Todas las funciones en `math` y otras más (en verso sin esfuerzo)\n"
   ]
  },
  {
   "cell_type": "markdown",
   "metadata": {},
   "source": [
    "\n",
    "## ¿Cómo saber el tipo de un valor?\n",
    "\n",
    "Pues tenemos una función del ámbito global llamada `type()` que hace precisamente eso.\n",
    "\n",
    "Prueba a llamar a `type` sobre los siguientes valores:\n",
    "* `\"hola\"`\n",
    "* `\"\"`\n",
    "* `0.0`\n",
    "* `math.pi`\n",
    "* `math.e`"
   ]
  },
  {
   "cell_type": "markdown",
   "metadata": {},
   "source": [
    "Si quieres ver algo interesante, prueba lo siguiente:"
   ]
  },
  {
   "cell_type": "code",
   "execution_count": 3,
   "metadata": {},
   "outputs": [],
   "source": [
    "def succ(n):\n",
    "    return n + 1"
   ]
  },
  {
   "cell_type": "code",
   "execution_count": 4,
   "metadata": {},
   "outputs": [
    {
     "data": {
      "text/plain": [
       "function"
      ]
     },
     "execution_count": 4,
     "metadata": {},
     "output_type": "execute_result"
    }
   ],
   "source": [
    "type(succ)"
   ]
  },
  {
   "cell_type": "markdown",
   "metadata": {},
   "source": [
    "## 😲 `function` es un **tipo** y ¡todas las funciones (las tuyas o las de Python) son **instancias** de dicho tipo!\n",
    "\n",
    "Las funciones no tienen nada de mágico, son un tipo más de Python.\n",
    "\n",
    "## Somos la Casa Lambda. No hay llamada que no atendamos.\n",
    "\n",
    "\n",
    "\n",
    "### Operaciones sobre las funciones\n",
    "\n",
    "Habíamos dicho que,\n",
    "\n",
    "> Un tipo es un conjunto de valores y las operaciones que se pueden hacer sobre ellos\n",
    "\n",
    "Pues bien, ¿cuales son las operaciones que se pueden hacer sobre las funciones? \n",
    "\n",
    "**😲 La llamada** Toda función es *llamable* (*callable* en Inglés), y entiende el operador `()` para efectuar esa llamada.\n",
    "\n",
    "\n",
    "![](atreides.png)\n",
    "\n",
    "\n",
    "\n"
   ]
  },
  {
   "cell_type": "markdown",
   "metadata": {},
   "source": [
    "## ¿Qué hemos aprendido?\n",
    "\n",
    "* Los tipos sirven para agrupar valores\n",
    "* Un tipo está definido por sus instancias y las operaciones que se pueden hacer sobre ellas\n",
    "* Hay tipos con un número infinito de instancias y otros con un número finito\n",
    "* Los números en Python son los tipos `int`, `float` y uno raro para números complejos.\n",
    "* Las cadenas en Python son el tipo `str`\n",
    "* ¡Las funciones son instancias del tipo `function`!\n",
    "* Tienes que leer *Dune*.\n",
    "\n",
    "\n",
    "En el siguiente capítulo veremos un nuevo tipo que sólo tiene dos instancias y es vital: los booleanos."
   ]
  }
 ],
 "metadata": {
  "kernelspec": {
   "display_name": "Python 3 (ipykernel)",
   "language": "python",
   "name": "python3"
  },
  "language_info": {
   "codemirror_mode": {
    "name": "ipython",
    "version": 3
   },
   "file_extension": ".py",
   "mimetype": "text/x-python",
   "name": "python",
   "nbconvert_exporter": "python",
   "pygments_lexer": "ipython3",
   "version": "3.12.2"
  }
 },
 "nbformat": 4,
 "nbformat_minor": 2
}
