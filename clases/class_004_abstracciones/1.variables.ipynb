{
 "cells": [
  {
   "cell_type": "markdown",
   "metadata": {},
   "source": [
    "# Ejercicio\n",
    "Muestra el mensaje \"Hello world!\" concatenando los diferentes elemenos a partir de variables"
   ]
  },
  {
   "cell_type": "code",
   "execution_count": null,
   "metadata": {},
   "outputs": [],
   "source": []
  },
  {
   "cell_type": "markdown",
   "metadata": {},
   "source": [
    "# Ejercicio\n",
    "Asigna a dos variables los valores 3 y 0 y realiza las siguientes operaciones matemáticas:\n",
    "- Suma\n",
    "- Multiplicación\n",
    "- División\n",
    "\n",
    "Y describe el resultado, es lo que esperabas?"
   ]
  },
  {
   "cell_type": "code",
   "execution_count": null,
   "metadata": {},
   "outputs": [],
   "source": []
  }
 ],
 "metadata": {
  "language_info": {
   "name": "python"
  }
 },
 "nbformat": 4,
 "nbformat_minor": 2
}
