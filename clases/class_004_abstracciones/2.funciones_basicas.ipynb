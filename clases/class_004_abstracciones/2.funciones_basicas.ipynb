{
 "cells": [
  {
   "cell_type": "markdown",
   "metadata": {},
   "source": [
    "# Ejercicio\n",
    "Crea una función que salude, para ello devolverá \"Hola\" seguido del nombre que se recibe como parámetro.\n",
    "Por ejemplo, si hago say_hello(\"Ale\") devolvería \"Hola Ale\""
   ]
  },
  {
   "cell_type": "code",
   "execution_count": null,
   "metadata": {},
   "outputs": [],
   "source": []
  },
  {
   "cell_type": "markdown",
   "metadata": {},
   "source": [
    "# Ejercicio\n",
    "Crea una calculadora que haga las operaciones básicas, para ello crea las siguientes funciones:\n",
    "- sum -> suma dos números\n",
    "- mult -> multiplica dos números\n",
    "- div -> divide el primer número entre el segundo\n",
    "- exp -> eleva la base al exponente "
   ]
  },
  {
   "cell_type": "code",
   "execution_count": null,
   "metadata": {},
   "outputs": [],
   "source": []
  },
  {
   "cell_type": "markdown",
   "metadata": {},
   "source": [
    "# Ejercicio\n",
    "Crea una función que reciba como parámetro un número y devuelva su valor con el IVA aplicado del 21%"
   ]
  },
  {
   "cell_type": "code",
   "execution_count": null,
   "metadata": {},
   "outputs": [],
   "source": []
  }
 ],
 "metadata": {
  "language_info": {
   "name": "python"
  }
 },
 "nbformat": 4,
 "nbformat_minor": 2
}
