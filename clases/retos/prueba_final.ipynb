{
 "cells": [
  {
   "cell_type": "code",
   "execution_count": 4,
   "metadata": {},
   "outputs": [
    {
     "name": "stdout",
     "output_type": "stream",
     "text": [
      "[1.5, 2.0, 3.0, 4.0, 5.0, 5.5]\n"
     ]
    }
   ],
   "source": [
    "def process_list(matrix):\n",
    "    result=[]\n",
    "    #primero \n",
    "    result.append((matrix[0]+matrix[1]) / 2 )\n",
    "\n",
    "    #resto\n",
    "    # posición 1\n",
    "    # (1 + 2 + 3) / 3\n",
    "    # iteramos desde 1 hasta len(matrix)-1\n",
    "    for i in range(1, len(matrix)-1):\n",
    "        result.append((matrix[i-1]+matrix[i]+matrix[i+1])/3)\n",
    "\n",
    "\n",
    "\n",
    "    #ultimo\n",
    "    result.append((matrix[len(matrix)-1]+matrix[len(matrix)-2])/2)\n",
    "    \n",
    "    return result\n",
    "\n",
    "print (process_list([1,2,3,4, 5, 6]))  #expected value [1,5, 2, 3, 3,5]"
   ]
  },
  {
   "cell_type": "code",
   "execution_count": 11,
   "metadata": {},
   "outputs": [
    {
     "ename": "TypeError",
     "evalue": "unsupported operand type(s) for /: 'list' and 'int'",
     "output_type": "error",
     "traceback": [
      "\u001b[0;31m---------------------------------------------------------------------------\u001b[0m",
      "\u001b[0;31mTypeError\u001b[0m                                 Traceback (most recent call last)",
      "Cell \u001b[0;32mIn[11], line 25\u001b[0m\n\u001b[1;32m     18\u001b[0m     \u001b[38;5;28;01mreturn\u001b[39;00m result\n\u001b[1;32m     20\u001b[0m matrix \u001b[38;5;241m=\u001b[39m [\n\u001b[1;32m     21\u001b[0m     [\u001b[38;5;241m1\u001b[39m, \u001b[38;5;241m2\u001b[39m, \u001b[38;5;241m3\u001b[39m, \u001b[38;5;241m4\u001b[39m, \u001b[38;5;241m5\u001b[39m],\n\u001b[1;32m     22\u001b[0m     [\u001b[38;5;241m6\u001b[39m, \u001b[38;5;241m7\u001b[39m, \u001b[38;5;241m8\u001b[39m, \u001b[38;5;241m9\u001b[39m, \u001b[38;5;241m10\u001b[39m],\n\u001b[1;32m     23\u001b[0m     [\u001b[38;5;241m11\u001b[39m, \u001b[38;5;241m12\u001b[39m, \u001b[38;5;241m13\u001b[39m, \u001b[38;5;241m14\u001b[39m, \u001b[38;5;241m15\u001b[39m]]\n\u001b[0;32m---> 25\u001b[0m \u001b[38;5;28mprint\u001b[39m (\u001b[43mprocess_list\u001b[49m\u001b[43m(\u001b[49m\u001b[43mmatrix\u001b[49m\u001b[43m)\u001b[49m)  \u001b[38;5;66;03m#expected value [1,5, 2, 3, 3,5]\u001b[39;00m\n",
      "Cell \u001b[0;32mIn[11], line 4\u001b[0m, in \u001b[0;36mprocess_list\u001b[0;34m(matrix)\u001b[0m\n\u001b[1;32m      2\u001b[0m result\u001b[38;5;241m=\u001b[39m[]\n\u001b[1;32m      3\u001b[0m \u001b[38;5;66;03m#primero \u001b[39;00m\n\u001b[0;32m----> 4\u001b[0m result\u001b[38;5;241m.\u001b[39mappend(\u001b[43m(\u001b[49m\u001b[43mmatrix\u001b[49m\u001b[43m[\u001b[49m\u001b[38;5;241;43m0\u001b[39;49m\u001b[43m]\u001b[49m\u001b[38;5;241;43m+\u001b[39;49m\u001b[43mmatrix\u001b[49m\u001b[43m[\u001b[49m\u001b[38;5;241;43m1\u001b[39;49m\u001b[43m]\u001b[49m\u001b[43m)\u001b[49m\u001b[43m \u001b[49m\u001b[38;5;241;43m/\u001b[39;49m\u001b[43m \u001b[49m\u001b[38;5;241;43m2\u001b[39;49m )\n\u001b[1;32m      6\u001b[0m \u001b[38;5;66;03m#resto\u001b[39;00m\n\u001b[1;32m      7\u001b[0m \u001b[38;5;66;03m# posición 1\u001b[39;00m\n\u001b[1;32m      8\u001b[0m \u001b[38;5;66;03m# (1 + 2 + 3) / 3\u001b[39;00m\n\u001b[1;32m      9\u001b[0m \u001b[38;5;66;03m# iteramos desde 1 hasta len(matrix)-1\u001b[39;00m\n\u001b[1;32m     10\u001b[0m \u001b[38;5;28;01mfor\u001b[39;00m i \u001b[38;5;129;01min\u001b[39;00m \u001b[38;5;28mrange\u001b[39m(\u001b[38;5;241m1\u001b[39m, \u001b[38;5;28mlen\u001b[39m(matrix)\u001b[38;5;241m-\u001b[39m\u001b[38;5;241m1\u001b[39m):\n",
      "\u001b[0;31mTypeError\u001b[0m: unsupported operand type(s) for /: 'list' and 'int'"
     ]
    }
   ],
   "source": [
    "def process_list(matrix):\n",
    "    result=[]\n",
    "    #primero \n",
    "    \n",
    "    result.append((matrix[0]+matrix[1]) / 2 )\n",
    "\n",
    "    #resto\n",
    "    # posición 1\n",
    "    # (1 + 2 + 3) / 3\n",
    "    # iteramos desde 1 hasta len(matrix)-1\n",
    "    for i in range(1, len(matrix)-1):\n",
    "        result.append((matrix[i-1]+matrix[i]+matrix[i+1])/3)\n",
    "\n",
    "\n",
    "\n",
    "    #ultimo\n",
    "    result.append((matrix[len(matrix)-1]+matrix[len(matrix)-2])/2)\n",
    "    \n",
    "    return result\n",
    "\n",
    "matrix = [\n",
    "    [1, 2, 3, 4, 5],\n",
    "    [6, 7, 8, 9, 10],\n",
    "    [11, 12, 13, 14, 15]]\n",
    "\n",
    "print (process_list(matrix))  #expected value [1,5, 2, 3, 3,5]"
   ]
  },
  {
   "cell_type": "code",
   "execution_count": 17,
   "metadata": {},
   "outputs": [
    {
     "name": "stdout",
     "output_type": "stream",
     "text": [
      "[2.3333333333333335, 2.75, 3.75, 4.666666666666667]\n",
      "[4.25, 5.0, 6.0, 4.25]\n",
      "[6.5, 7.4, 6.4, 5.5]\n",
      "[7.333333333333333, 8.0, 8.0, 5.0]\n"
     ]
    }
   ],
   "source": [
    "def process_matrix(matrix):\n",
    "    processed_matrix = []\n",
    "\n",
    "    # Procesamiento de las filas intermedias\n",
    "    for i in range(len(matrix)):\n",
    "        processed_row = []\n",
    "\n",
    "        for j in range(len(matrix[i])):\n",
    "            neighbors = []\n",
    "            current_element = matrix[i][j]\n",
    "\n",
    "            # Vecino izquierdo\n",
    "            if j > 0:\n",
    "                neighbors.append(matrix[i][j - 1])\n",
    "            # Vecino derecho\n",
    "            if j < len(matrix[i]) - 1:\n",
    "                neighbors.append(matrix[i][j + 1])\n",
    "            # Vecino superior\n",
    "            if i > 0:\n",
    "                neighbors.append(matrix[i - 1][j])\n",
    "            # Vecino inferior\n",
    "            if i < len(matrix) - 1:\n",
    "                neighbors.append(matrix[i + 1][j])\n",
    "\n",
    "            # Calcula el promedio del elemento y sus vecinos\n",
    "            average = sum(neighbors + [current_element]) / (len(neighbors) + 1)\n",
    "            processed_row.append(average)\n",
    "\n",
    "        processed_matrix.append(processed_row)\n",
    "\n",
    "    return processed_matrix\n",
    "\n",
    "# Ejemplo de uso\n",
    "matrix = [\n",
    "    [1, 2, 3, 4],\n",
    "    [4, 5, 6, 7],\n",
    "    [7, 8, 9, 0],\n",
    "    [7, 8, 9, 6]\n",
    "]\n",
    "\n",
    "processed_matrix = process_matrix(matrix)\n",
    "for row in processed_matrix:\n",
    "    print(row)"
   ]
  }
 ],
 "metadata": {
  "kernelspec": {
   "display_name": "Python 3",
   "language": "python",
   "name": "python3"
  },
  "language_info": {
   "codemirror_mode": {
    "name": "ipython",
    "version": 3
   },
   "file_extension": ".py",
   "mimetype": "text/x-python",
   "name": "python",
   "nbconvert_exporter": "python",
   "pygments_lexer": "ipython3",
   "version": "3.12.2"
  }
 },
 "nbformat": 4,
 "nbformat_minor": 2
}
