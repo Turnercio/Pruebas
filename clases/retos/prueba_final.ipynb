{
 "cells": [
  {
   "cell_type": "code",
   "execution_count": 1,
   "metadata": {},
   "outputs": [
    {
     "ename": "TypeError",
     "evalue": "process_list() takes 1 positional argument but 6 were given",
     "output_type": "error",
     "traceback": [
      "\u001b[0;31m---------------------------------------------------------------------------\u001b[0m",
      "\u001b[0;31mTypeError\u001b[0m                                 Traceback (most recent call last)",
      "Cell \u001b[0;32mIn[1], line 20\u001b[0m\n\u001b[1;32m     16\u001b[0m     result\u001b[38;5;241m.\u001b[39mappend((number_list[\u001b[38;5;28mlen\u001b[39m(number_list)\u001b[38;5;241m-\u001b[39m\u001b[38;5;241m1\u001b[39m]\u001b[38;5;241m+\u001b[39mnumber_list[\u001b[38;5;28mlen\u001b[39m(number_list)\u001b[38;5;241m-\u001b[39m\u001b[38;5;241m2\u001b[39m])\u001b[38;5;241m/\u001b[39m\u001b[38;5;241m2\u001b[39m)\n\u001b[1;32m     18\u001b[0m     \u001b[38;5;28;01mreturn\u001b[39;00m result\n\u001b[0;32m---> 20\u001b[0m \u001b[38;5;28mprint\u001b[39m (\u001b[43mprocess_list\u001b[49m\u001b[43m(\u001b[49m\u001b[43m[\u001b[49m\u001b[38;5;241;43m1\u001b[39;49m\u001b[43m,\u001b[49m\u001b[38;5;241;43m2\u001b[39;49m\u001b[43m,\u001b[49m\u001b[38;5;241;43m3\u001b[39;49m\u001b[43m,\u001b[49m\u001b[38;5;241;43m4\u001b[39;49m\u001b[43m,\u001b[49m\u001b[43m \u001b[49m\u001b[38;5;241;43m5\u001b[39;49m\u001b[43m,\u001b[49m\u001b[43m \u001b[49m\u001b[38;5;241;43m6\u001b[39;49m\u001b[43m]\u001b[49m\u001b[43m,\u001b[49m\u001b[43m[\u001b[49m\u001b[38;5;241;43m1\u001b[39;49m\u001b[43m,\u001b[49m\u001b[38;5;241;43m2\u001b[39;49m\u001b[43m,\u001b[49m\u001b[38;5;241;43m3\u001b[39;49m\u001b[43m,\u001b[49m\u001b[38;5;241;43m4\u001b[39;49m\u001b[43m,\u001b[49m\u001b[43m \u001b[49m\u001b[38;5;241;43m5\u001b[39;49m\u001b[43m,\u001b[49m\u001b[43m \u001b[49m\u001b[38;5;241;43m6\u001b[39;49m\u001b[43m]\u001b[49m\u001b[43m,\u001b[49m\u001b[43m[\u001b[49m\u001b[38;5;241;43m1\u001b[39;49m\u001b[43m,\u001b[49m\u001b[38;5;241;43m2\u001b[39;49m\u001b[43m,\u001b[49m\u001b[38;5;241;43m3\u001b[39;49m\u001b[43m,\u001b[49m\u001b[38;5;241;43m4\u001b[39;49m\u001b[43m,\u001b[49m\u001b[43m \u001b[49m\u001b[38;5;241;43m5\u001b[39;49m\u001b[43m,\u001b[49m\u001b[43m \u001b[49m\u001b[38;5;241;43m6\u001b[39;49m\u001b[43m]\u001b[49m\u001b[43m,\u001b[49m\u001b[43m[\u001b[49m\u001b[38;5;241;43m1\u001b[39;49m\u001b[43m,\u001b[49m\u001b[38;5;241;43m2\u001b[39;49m\u001b[43m,\u001b[49m\u001b[38;5;241;43m3\u001b[39;49m\u001b[43m,\u001b[49m\u001b[38;5;241;43m4\u001b[39;49m\u001b[43m,\u001b[49m\u001b[43m \u001b[49m\u001b[38;5;241;43m5\u001b[39;49m\u001b[43m,\u001b[49m\u001b[43m \u001b[49m\u001b[38;5;241;43m6\u001b[39;49m\u001b[43m]\u001b[49m\u001b[43m,\u001b[49m\u001b[43m[\u001b[49m\u001b[38;5;241;43m1\u001b[39;49m\u001b[43m,\u001b[49m\u001b[38;5;241;43m2\u001b[39;49m\u001b[43m,\u001b[49m\u001b[38;5;241;43m3\u001b[39;49m\u001b[43m,\u001b[49m\u001b[38;5;241;43m4\u001b[39;49m\u001b[43m,\u001b[49m\u001b[43m \u001b[49m\u001b[38;5;241;43m5\u001b[39;49m\u001b[43m,\u001b[49m\u001b[43m \u001b[49m\u001b[38;5;241;43m6\u001b[39;49m\u001b[43m]\u001b[49m\u001b[43m,\u001b[49m\u001b[43m[\u001b[49m\u001b[38;5;241;43m1\u001b[39;49m\u001b[43m,\u001b[49m\u001b[38;5;241;43m2\u001b[39;49m\u001b[43m,\u001b[49m\u001b[38;5;241;43m3\u001b[39;49m\u001b[43m,\u001b[49m\u001b[38;5;241;43m4\u001b[39;49m\u001b[43m,\u001b[49m\u001b[43m \u001b[49m\u001b[38;5;241;43m5\u001b[39;49m\u001b[43m,\u001b[49m\u001b[43m \u001b[49m\u001b[38;5;241;43m6\u001b[39;49m\u001b[43m]\u001b[49m\u001b[43m)\u001b[49m)  \u001b[38;5;66;03m#expected value [1,5, 2, 3, 3,5]\u001b[39;00m\n",
      "\u001b[0;31mTypeError\u001b[0m: process_list() takes 1 positional argument but 6 were given"
     ]
    }
   ],
   "source": [
    "def process_list(number_list):\n",
    "    result=[]\n",
    "    #primero \n",
    "    result.append((number_list[0]+number_list[1]) / 2 )\n",
    "\n",
    "    #resto\n",
    "    # posición 1\n",
    "    # (1 + 2 + 3) / 3\n",
    "    # iteramos desde 1 hasta len(number_list)-1\n",
    "    for i in range(1, len(number_list)-1):\n",
    "        result.append((number_list[i-1]+number_list[i]+number_list[i+1])/3)\n",
    "\n",
    "\n",
    "\n",
    "    #ultimo\n",
    "    result.append((number_list[len(number_list)-1]+number_list[len(number_list)-2])/2)\n",
    "    \n",
    "    return result\n",
    "\n",
    "print (process_list([1,2,3,4, 5, 6],[1,2,3,4, 5, 6],[1,2,3,4, 5, 6],[1,2,3,4, 5, 6],[1,2,3,4, 5, 6],[1,2,3,4, 5, 6]))  #expected value [1,5, 2, 3, 3,5]"
   ]
  },
  {
   "cell_type": "code",
   "execution_count": null,
   "metadata": {},
   "outputs": [],
   "source": [
    "def process_list(number_list):\n",
    "    result=[]\n",
    "    #primero \n",
    "    result.append((number_list[0]+number_list[1]) / 2 )\n",
    "\n",
    "    #resto\n",
    "    # posición 1\n",
    "    # (1 + 2 + 3) / 3\n",
    "    # iteramos desde 1 hasta len(number_list)-1\n",
    "    for i in range(1, len(number_list)-1):\n",
    "        result.append((number_list[i-1]+number_list[i]+number_list[i+1])/3)\n",
    "\n",
    "\n",
    "\n",
    "    #ultimo\n",
    "    result.append((number_list[len(number_list)-1]+number_list[len(number_list)-2])/2)\n",
    "    \n",
    "    return result\n",
    "\n",
    "print (process_list([1,2,3,4, 5, 6, 7, 8, 9, 10]))  #expected value [1,5, 2, 3, 3,5]"
   ]
  }
 ],
 "metadata": {
  "kernelspec": {
   "display_name": "Python 3",
   "language": "python",
   "name": "python3"
  },
  "language_info": {
   "codemirror_mode": {
    "name": "ipython",
    "version": 3
   },
   "file_extension": ".py",
   "mimetype": "text/x-python",
   "name": "python",
   "nbconvert_exporter": "python",
   "pygments_lexer": "ipython3",
   "version": "3.12.2"
  }
 },
 "nbformat": 4,
 "nbformat_minor": 2
}
