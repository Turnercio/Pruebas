{
 "cells": [
  {
   "cell_type": "markdown",
   "metadata": {},
   "source": [
    "# Ejercicio 3. Cuanto cuesta una carrera\n",
    "\n",
    "## Enunciado\n",
    "\n",
    "Sabiendo que la tarifa de taxi de una ciudad es 2,5 € por el inicio del servicio mas 46 centimos de euro por cada 400 metros de recorrido. Crea una función que devuelva el precio de una carrera indicando los kilómetros (no los metros) recorridos.\n",
    "\n",
    "Si se informa una distancia recorrida menor que cero, la función debe devolver el valor -1 (indicativo de error)"
   ]
  },
  {
   "cell_type": "markdown",
   "metadata": {},
   "source": [
    "## Ayuda a la implementación\n",
    "\n",
    "La entrada de datos es en kilómetros y la tarifa se basa en metros, ten cuidado con eso. \n",
    "\n",
    "Es interesante que tanto el precio por los 400 metros como de inicio de servicio se incluyan como constantes para adaptarlo a los futuros cambios de tarifa."
   ]
  },
  {
   "cell_type": "code",
   "execution_count": 1,
   "metadata": {},
   "outputs": [
    {
     "name": "stdout",
     "output_type": "stream",
     "text": [
      "4.800000000000001\n"
     ]
    }
   ],
   "source": [
    "INICIO_DE_SERVICIO = 2.5\n",
    "PRECIO_400M = 0.46\n",
    "\n",
    "def precio_servicio(distancia):\n",
    "  if distancia < 0:\n",
    "    return -1\n",
    "  return INICIO_DE_SERVICIO + (distancia * 1000)/400 * PRECIO_400M\n",
    "\n",
    "print(precio_servicio(2))"
   ]
  }
 ],
 "metadata": {
  "kernelspec": {
   "display_name": "Python 3",
   "language": "python",
   "name": "python3"
  },
  "language_info": {
   "codemirror_mode": {
    "name": "ipython",
    "version": 3
   },
   "file_extension": ".py",
   "mimetype": "text/x-python",
   "name": "python",
   "nbconvert_exporter": "python",
   "pygments_lexer": "ipython3",
   "version": "3.9.6"
  }
 },
 "nbformat": 4,
 "nbformat_minor": 2
}
