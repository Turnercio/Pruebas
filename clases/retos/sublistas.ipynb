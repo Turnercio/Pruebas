{
 "cells": [
  {
   "cell_type": "markdown",
   "metadata": {},
   "source": [
    "# Enunciado\n",
    "Si tenemos una lista con cuatro elementos, por ejemplo [1, 2, 3, 4] sus sublistas son\n",
    "\n",
    "sin elementos []\n",
    "\n",
    "de un elemento [1], [2], [3] y [4]\n",
    "\n",
    "de dos elementos [1, 2], [2, 3] y [3, 4]. Solo estas [2, 4] no es una sublista porque no son términos adyacentes\n",
    "\n",
    "de tres elementos [1, 2, 3] y [2, 3, 4]\n",
    "\n",
    "de cuatro elementos [1, 2, 3, 4]\n",
    "\n",
    "Se trata de crear un programa que devuelva una lista con todas las sublistas de una lista de entrada.\n"
   ]
  },
  {
   "cell_type": "code",
   "execution_count": 3,
   "metadata": {},
   "outputs": [
    {
     "name": "stdout",
     "output_type": "stream",
     "text": [
      "[[1], [2], [3], [4], [5], [6], [1, 2], [2, 3], [3, 4], [4, 5], [5, 6], [1, 2, 3], [2, 3, 4], [3, 4, 5], [4, 5, 6], [1, 2, 3, 4], [2, 3, 4, 5], [3, 4, 5, 6], [1, 2, 3, 4, 5], [2, 3, 4, 5, 6], [1, 2, 3, 4, 5, 6]]\n"
     ]
    }
   ],
   "source": [
    "def sublists_gen(input_list):\n",
    "    result_list = []\n",
    "    for i in range(len(input_list)):\n",
    "        for j in range(i+1, len(input_list) +1):\n",
    "            sublist = input_list[i:j]\n",
    "            result_list.append(sublist)\n",
    "    result_list = sorted(result_list, key=len)\n",
    "    return result_list\n",
    "\n",
    "print (sublists_gen([1, 2, 3, 4, 5, 6]))\n",
    "    \n"
   ]
  }
 ],
 "metadata": {
  "kernelspec": {
   "display_name": "Python 3",
   "language": "python",
   "name": "python3"
  },
  "language_info": {
   "codemirror_mode": {
    "name": "ipython",
    "version": 3
   },
   "file_extension": ".py",
   "mimetype": "text/x-python",
   "name": "python",
   "nbconvert_exporter": "python",
   "pygments_lexer": "ipython3",
   "version": "3.12.2"
  }
 },
 "nbformat": 4,
 "nbformat_minor": 2
}
