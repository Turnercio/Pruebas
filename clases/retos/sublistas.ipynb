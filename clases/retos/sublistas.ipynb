{
 "cells": [
  {
   "cell_type": "markdown",
   "metadata": {},
   "source": [
    "# Enunciado\n",
    "Si tenemos una lista con cuatro elementos, por ejemplo [1, 2, 3, 4] sus sublistas son\n",
    "\n",
    "sin elementos []\n",
    "\n",
    "de un elemento [1], [2], [3] y [4]\n",
    "\n",
    "de dos elementos [1, 2], [2, 3] y [3, 4]. Solo estas [2, 4] no es una sublista porque no son términos adyacentes\n",
    "\n",
    "de tres elementos [1, 2, 3] y [2, 3, 4]\n",
    "\n",
    "de cuatro elementos [1, 2, 3, 4]\n",
    "\n",
    "Se trata de crear un programa que devuelva una lista con todas las sublistas de una lista de entrada.\n"
   ]
  }
 ],
 "metadata": {
  "language_info": {
   "name": "python"
  }
 },
 "nbformat": 4,
 "nbformat_minor": 2
}
