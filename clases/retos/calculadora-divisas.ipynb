{
 "cells": [
  {
   "cell_type": "markdown",
   "metadata": {},
   "source": [
    "# Reto extra. Tipos de cambio\n",
    "\n",
    "## Enunciado\n",
    "\n",
    "Partiendo de los siguientes tipos de cambio respecto al dolar\n",
    "\n",
    "| **Dolar** | **Moneda** | Valor |\n",
    "|-----------|--------------|-------|\n",
    "| 1.00 | EUR | 0.95 |\n",
    "| 1.00 | JPY (yen) | 136.41 |\n",
    "| 1.00 | Yuan | 6.96 |\n",
    "| 1.00 | RUB (rublo) | 76.02 |\n",
    "\n",
    "Construye las funciones necesarias para poder convertir cualquier moneda a cualquier otra"
   ]
  },
  {
   "cell_type": "code",
   "execution_count": 8,
   "metadata": {},
   "outputs": [
    {
     "name": "stdout",
     "output_type": "stream",
     "text": [
      "1.9\n"
     ]
    }
   ],
   "source": [
    "eur = 0.95\n",
    "jpy = 136.41\n",
    "yuan = 6.96\n",
    "rub = 76.02 \n",
    "\n",
    "amount = float(input(\"Enter the amount of money you want to exchange: \"))\n",
    "currency = input(\"Enter the currency you want to exchange for (eur, jpy, yuan, or rub): \").lower()\n",
    "\n",
    "def exchange_calc(currency, amount):\n",
    "    if currency == 'eur':\n",
    "        result = amount * eur\n",
    "    elif currency == 'jpy':\n",
    "        result = amount * jpy\n",
    "    elif currency == 'yuan':\n",
    "        result = amount * yuan\n",
    "    elif currency == 'rub':\n",
    "        result = amount * rub\n",
    "    else:\n",
    "        result = \"Invalid currency\"\n",
    "    return result\n",
    "\n",
    "print (exchange_calc(currency, amount))\n"
   ]
  }
 ],
 "metadata": {
  "kernelspec": {
   "display_name": "Python 3",
   "language": "python",
   "name": "python3"
  },
  "language_info": {
   "codemirror_mode": {
    "name": "ipython",
    "version": 3
   },
   "file_extension": ".py",
   "mimetype": "text/x-python",
   "name": "python",
   "nbconvert_exporter": "python",
   "pygments_lexer": "ipython3",
   "version": "3.12.2"
  }
 },
 "nbformat": 4,
 "nbformat_minor": 2
}
