{
 "cells": [
  {
   "cell_type": "markdown",
   "metadata": {},
   "source": [
    "# Reto extra. Ordenar una lista\n",
    "\n",
    "## Enunciado\n",
    "\n",
    "Debes construir un programa que ordene una lista de valores sin utilizar las facilidades de python (ni .sort, ni sorted())"
   ]
  },
  {
   "cell_type": "markdown",
   "metadata": {},
   "source": [
    "## Ayuda a la implementación\n",
    "\n",
    "La forma más sencilla es recorrer la lista desde el primer al penúltimo elemento. Llamaremos a cada item recorrido de esta lista item1\n",
    "Para cada item1 recorreremos la lista desde el siguiente elemento hasta el final. A este element le llamaremos item2\n",
    "\n",
    "Para ordenar la lista deberás hacer lo siguiente\n",
    "```\n",
    "+- si item2 > item1:\n",
    "|    intercambiar posiciones en la lista\n",
    "+- en otro caso:\n",
    "|    ignorar\n",
    "+-\n",
    "```"
   ]
  },
  {
   "cell_type": "code",
   "execution_count": 3,
   "metadata": {},
   "outputs": [
    {
     "name": "stdout",
     "output_type": "stream",
     "text": [
      "[-2553, -2, 2, 3, 4, 5, 6, 8, 8, 1527]\n"
     ]
    }
   ],
   "source": [
    "def bubble_sort(num_list):\n",
    "    n=len(num_list)\n",
    "    for i in range(n):\n",
    "        for j in range(n-1):\n",
    "            if num_list[j] > num_list[j + 1]:\n",
    "                num_list[j], num_list[j+1] = num_list[j+1], num_list[j]\n",
    "\n",
    "    return num_list\n",
    "print (bubble_sort([2,3,8,8,5,4,6,-2, 1527, -2553]))\n",
    "        \n",
    "\n",
    "\n",
    "             \n",
    "            "
   ]
  }
 ],
 "metadata": {
  "kernelspec": {
   "display_name": "Python 3",
   "language": "python",
   "name": "python3"
  },
  "language_info": {
   "codemirror_mode": {
    "name": "ipython",
    "version": 3
   },
   "file_extension": ".py",
   "mimetype": "text/x-python",
   "name": "python",
   "nbconvert_exporter": "python",
   "pygments_lexer": "ipython3",
   "version": "3.12.2"
  }
 },
 "nbformat": 4,
 "nbformat_minor": 2
}
