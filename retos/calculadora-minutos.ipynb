{
 "cells": [
  {
   "cell_type": "markdown",
   "metadata": {},
   "source": [
    "# Reto de fin de semana\n",
    "\n",
    "## Enunciado\n",
    "\n",
    "**Parte 1.** Crea una función que imprima por pantalla las horas, minutos y segundos de un tiempo dado en segundos.\n",
    "\n",
    "\n",
    "**Parte 2.** Crea la función contraria, indicándole el número de horas, minutos y segundos y muestre el total de segundos"
   ]
  },
  {
   "cell_type": "code",
   "execution_count": 4,
   "metadata": {},
   "outputs": [
    {
     "name": "stdout",
     "output_type": "stream",
     "text": [
      "(12, 41, 18)\n"
     ]
    }
   ],
   "source": [
    "def secondsToTime(totalseconds):\n",
    "    hours = totalseconds // 3600\n",
    "    minutes = (totalseconds % 3600) // 60\n",
    "    seconds = totalseconds % 60\n",
    "    return hours, minutes, seconds\n",
    "\n",
    "totalseconds = int(input(\"Insert the time in seconds \"))\n",
    "print(secondsToTime(totalseconds))"
   ]
  },
  {
   "cell_type": "code",
   "execution_count": 5,
   "metadata": {},
   "outputs": [
    {
     "name": "stdout",
     "output_type": "stream",
     "text": [
      "45678\n"
     ]
    }
   ],
   "source": [
    "def timeToSeconds(hours, minutes, seconds):\n",
    "    totalseconds = hours*3600 + minutes*60 + seconds\n",
    "    return totalseconds\n",
    "\n",
    "hours = int(input(\"Enter the amount of hours \"))\n",
    "minutes = int(input(\"Enter the amount of minutes \"))\n",
    "seconds = int(input(\"Enter the amount of seconds \"))\n",
    "\n",
    "\n",
    "print(timeToSeconds(hours, minutes, seconds))"
   ]
  },
  {
   "cell_type": "markdown",
   "metadata": {},
   "source": []
  },
  {
   "cell_type": "markdown",
   "metadata": {},
   "source": [
    "## Ayuda a la implementación\n",
    "\n",
    "Recuerda que un minuto tiene 60 segundos, una hora tiene 60 minutos o lo que es lo mismo 3600 segundos.\n",
    "\n",
    "El resultado puedes devolverlo así.\n",
    "\n",
    "```\n",
    "return horas, minutos, segundos\n",
    "```"
   ]
  },
  {
   "cell_type": "markdown",
   "metadata": {},
   "source": [
    "# Datos de prueba\n",
    "Un ejemplo de cambio de segundos a horas:minutos y segundos:\n",
    "3761 -> 1:2:41\n",
    "Un ejemplo del cambio contrario:\n",
    "3:10:56 -> 11456"
   ]
  },
  {
   "cell_type": "code",
   "execution_count": 1,
   "metadata": {},
   "outputs": [
    {
     "ename": "ValueError",
     "evalue": "invalid literal for int() with base 10: ''",
     "output_type": "error",
     "traceback": [
      "\u001b[0;31m---------------------------------------------------------------------------\u001b[0m",
      "\u001b[0;31mValueError\u001b[0m                                Traceback (most recent call last)",
      "Cell \u001b[0;32mIn[1], line 15\u001b[0m\n\u001b[1;32m     12\u001b[0m     totalseconds \u001b[38;5;241m=\u001b[39m hours\u001b[38;5;241m*\u001b[39m\u001b[38;5;241m3600\u001b[39m \u001b[38;5;241m+\u001b[39m minutes\u001b[38;5;241m*\u001b[39m\u001b[38;5;241m60\u001b[39m \u001b[38;5;241m*\u001b[39m seconds\n\u001b[1;32m     13\u001b[0m     \u001b[38;5;28;01mreturn\u001b[39;00m totalseconds\n\u001b[0;32m---> 15\u001b[0m hours \u001b[38;5;241m=\u001b[39m \u001b[38;5;28;43mint\u001b[39;49m\u001b[43m(\u001b[49m\u001b[38;5;28;43minput\u001b[39;49m\u001b[43m(\u001b[49m\u001b[38;5;124;43m\"\u001b[39;49m\u001b[38;5;124;43mEnter the amount of hours \u001b[39;49m\u001b[38;5;124;43m\"\u001b[39;49m\u001b[43m)\u001b[49m\u001b[43m)\u001b[49m\n\u001b[1;32m     16\u001b[0m minutes \u001b[38;5;241m=\u001b[39m \u001b[38;5;28mint\u001b[39m(\u001b[38;5;28minput\u001b[39m(\u001b[38;5;124m\"\u001b[39m\u001b[38;5;124mEnter the amount of minutes \u001b[39m\u001b[38;5;124m\"\u001b[39m))\n\u001b[1;32m     17\u001b[0m seconds \u001b[38;5;241m=\u001b[39m \u001b[38;5;28mint\u001b[39m(\u001b[38;5;28minput\u001b[39m(\u001b[38;5;124m\"\u001b[39m\u001b[38;5;124mEnter the amount of seconds \u001b[39m\u001b[38;5;124m\"\u001b[39m))\n",
      "\u001b[0;31mValueError\u001b[0m: invalid literal for int() with base 10: ''"
     ]
    }
   ],
   "source": [
    "\n",
    "\n",
    "\n",
    "\n",
    "\n",
    "\n",
    "\n"
   ]
  }
 ],
 "metadata": {
  "kernelspec": {
   "display_name": "Python 3",
   "language": "python",
   "name": "python3"
  },
  "language_info": {
   "codemirror_mode": {
    "name": "ipython",
    "version": 3
   },
   "file_extension": ".py",
   "mimetype": "text/x-python",
   "name": "python",
   "nbconvert_exporter": "python",
   "pygments_lexer": "ipython3",
   "version": "3.12.2"
  }
 },
 "nbformat": 4,
 "nbformat_minor": 2
}
