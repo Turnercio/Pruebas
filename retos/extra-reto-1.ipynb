{
 "cells": [
  {
   "cell_type": "markdown",
   "metadata": {},
   "source": [
    "# Ejercicio 3. Cuanto cuesta una carrera\n",
    "\n",
    "## Enunciado\n",
    "\n",
    "Sabiendo que la tarifa de taxi de una ciudad es 2,5 € por el inicio del servicio mas 46 centimos de euro por cada 400 metros de recorrido. Crea una función que devuelva el precio de una carrera indicando los kilómetros (no los metros) recorridos.\n",
    "\n",
    "Si se informa una distancia recorrida menor que cero, la función debe devolver el valor -1 (indicativo de error)"
   ]
  },
  {
   "cell_type": "markdown",
   "metadata": {},
   "source": [
    "## Ayuda a la implementación\n",
    "\n",
    "La entrada de datos es en kilómetros y la tarifa se basa en metros, ten cuidado con eso. \n",
    "\n",
    "Es interesante que tanto el precio por los 400 metros como de inicio de servicio se incluyan como constantes para adaptarlo a los futuros cambios de tarifa."
   ]
  },
  {
   "cell_type": "code",
   "execution_count": 2,
   "metadata": {},
   "outputs": [
    {
     "name": "stdout",
     "output_type": "stream",
     "text": [
      "5.95\n"
     ]
    }
   ],
   "source": [
    "startService = 2.5\n",
    "pp400= 0.46\n",
    "distance = float(input(\"Insert the distance of the ride \"))\n",
    "distanceM = (distance*1000/400) \n",
    "\n",
    "def priceCalculator(distanceM):\n",
    "    if distanceM > 0:\n",
    "        price = startService + (distanceM * pp400)\n",
    "        return price\n",
    "    else:\n",
    "        price = -1\n",
    "        return price\n",
    "\n",
    "\n",
    "\n",
    "print(priceCalculator(distanceM))"
   ]
  },
  {
   "cell_type": "code",
   "execution_count": 5,
   "metadata": {},
   "outputs": [
    {
     "name": "stdout",
     "output_type": "stream",
     "text": [
      "5.95\n"
     ]
    }
   ],
   "source": [
    "ppkm = 1.15\n",
    "\n",
    "def priceCalculator(distance):\n",
    "    if distance > 0:\n",
    "        price = startService + (distance * ppkm)\n",
    "        return round(price, 2)\n",
    "    else:\n",
    "        price = -1\n",
    "        return price\n",
    "\n",
    "distance = float(input(\"Insert the distance of the ride \"))\n",
    "\n",
    "print(priceCalculator(distance))"
   ]
  }
 ],
 "metadata": {
  "kernelspec": {
   "display_name": "Python 3",
   "language": "python",
   "name": "python3"
  },
  "language_info": {
   "codemirror_mode": {
    "name": "ipython",
    "version": 3
   },
   "file_extension": ".py",
   "mimetype": "text/x-python",
   "name": "python",
   "nbconvert_exporter": "python",
   "pygments_lexer": "ipython3",
   "version": "3.12.2"
  }
 },
 "nbformat": 4,
 "nbformat_minor": 2
}
