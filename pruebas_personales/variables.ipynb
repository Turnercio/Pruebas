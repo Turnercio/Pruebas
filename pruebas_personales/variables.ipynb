{
 "cells": [
  {
   "cell_type": "code",
   "execution_count": 11,
   "metadata": {},
   "outputs": [
    {
     "name": "stdout",
     "output_type": "stream",
     "text": [
      "18.849552000000003\n"
     ]
    }
   ],
   "source": [
    "\n",
    "#variables\n",
    "#oi\n",
    "pi = 3.141592\n",
    "#radio, con el input te pide que le introduzcas el valor\n",
    "r=float(input(\"Ingresar el radio del circulo: \"))\n",
    "#variable con la operacion\n",
    "perimetro = (2*pi*r)\n",
    "\n",
    "print(perimetro)\n"
   ]
  }
 ],
 "metadata": {
  "kernelspec": {
   "display_name": "Python 3",
   "language": "python",
   "name": "python3"
  },
  "language_info": {
   "codemirror_mode": {
    "name": "ipython",
    "version": 3
   },
   "file_extension": ".py",
   "mimetype": "text/x-python",
   "name": "python",
   "nbconvert_exporter": "python",
   "pygments_lexer": "ipython3",
   "version": "3.12.2"
  }
 },
 "nbformat": 4,
 "nbformat_minor": 2
}
