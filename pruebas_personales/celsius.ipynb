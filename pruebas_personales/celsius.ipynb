{
 "cells": [
  {
   "cell_type": "code",
   "execution_count": 1,
   "metadata": {},
   "outputs": [
    {
     "data": {
      "text/plain": [
       "50.0"
      ]
     },
     "execution_count": 1,
     "metadata": {},
     "output_type": "execute_result"
    }
   ],
   "source": [
    "#código\n",
    "def celsius_to_farenheit(celsius):\n",
    "    \"\"\"\n",
    "    Converts celsius to farenheit\n",
    "    \"\"\"\n",
    "    f = (celsius * 9 / 5) + 32\n",
    "    return f\n",
    "\n",
    "#ejemplos / pruebas\n",
    "cels = 20\n",
    "calcs = 3\n",
    "cosa = 10\n",
    "\n",
    "\n",
    "#celsius_to_farenheit(cels)\n",
    "#celsius_to_farenheit(calcs)\n",
    "celsius_to_farenheit(cosa)\n",
    "\n"
   ]
  }
 ],
 "metadata": {
  "kernelspec": {
   "display_name": "Python 3",
   "language": "python",
   "name": "python3"
  },
  "language_info": {
   "codemirror_mode": {
    "name": "ipython",
    "version": 3
   },
   "file_extension": ".py",
   "mimetype": "text/x-python",
   "name": "python",
   "nbconvert_exporter": "python",
   "pygments_lexer": "ipython3",
   "version": "3.12.2"
  }
 },
 "nbformat": 4,
 "nbformat_minor": 2
}
