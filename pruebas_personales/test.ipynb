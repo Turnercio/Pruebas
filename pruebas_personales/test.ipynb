{
 "cells": [
  {
   "cell_type": "code",
   "execution_count": 6,
   "metadata": {},
   "outputs": [
    {
     "name": "stdout",
     "output_type": "stream",
     "text": [
      "130.0\n"
     ]
    }
   ],
   "source": [
    "v1 = float(input(\"Insert the required VAT \"))\n",
    "price = float(input(\"Insert the price without VAT \"))\n",
    "vat = (v1/100) + 1\n",
    "\n",
    "def vatCalculator(price, vat):\n",
    "    fullPrice = (price*vat)\n",
    "    return fullPrice\n",
    "\n",
    "\n",
    "\n",
    "print(vatCalculator(price, vat))\n",
    "\n"
   ]
  }
 ],
 "metadata": {
  "kernelspec": {
   "display_name": "Python 3",
   "language": "python",
   "name": "python3"
  },
  "language_info": {
   "codemirror_mode": {
    "name": "ipython",
    "version": 3
   },
   "file_extension": ".py",
   "mimetype": "text/x-python",
   "name": "python",
   "nbconvert_exporter": "python",
   "pygments_lexer": "ipython3",
   "version": "3.12.2"
  }
 },
 "nbformat": 4,
 "nbformat_minor": 2
}
