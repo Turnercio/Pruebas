{
 "cells": [
  {
   "cell_type": "code",
   "execution_count": 1,
   "metadata": {},
   "outputs": [
    {
     "name": "stdout",
     "output_type": "stream",
     "text": [
      "El IVA del 100 es 21.0 y el total con IVA es 121.0.\n",
      "No se proporcionó ningún número. Se asumirá un valor de 0 para el cálculo del IVA.\n",
      "El IVA del 0 es 0.0 y el total con IVA es 0.0.\n"
     ]
    }
   ],
   "source": [
    "def calcular_iva(numero=None):\n",
    "    if numero is None:\n",
    "        numero = 0\n",
    "        print(\"No se proporcionó ningún número. Se asumirá un valor de 0 para el cálculo del IVA.\")\n",
    "\n",
    "    iva = numero * 0.21\n",
    "    total_con_iva = numero + iva\n",
    "    print(f\"El IVA del {numero} es {iva} y el total con IVA es {total_con_iva}.\")\n",
    "\n",
    "# Ejemplos de uso de la función\n",
    "calcular_iva(100)  # Calcular IVA para el número 100\n",
    "calcular_iva()     # Calcular IVA sin proporcionar ningún número\n"
   ]
  }
 ],
 "metadata": {
  "kernelspec": {
   "display_name": "Python 3",
   "language": "python",
   "name": "python3"
  },
  "language_info": {
   "codemirror_mode": {
    "name": "ipython",
    "version": 3
   },
   "file_extension": ".py",
   "mimetype": "text/x-python",
   "name": "python",
   "nbconvert_exporter": "python",
   "pygments_lexer": "ipython3",
   "version": "3.12.2"
  }
 },
 "nbformat": 4,
 "nbformat_minor": 2
}
