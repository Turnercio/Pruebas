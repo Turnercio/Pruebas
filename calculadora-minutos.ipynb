{
 "cells": [
  {
   "cell_type": "markdown",
   "metadata": {},
   "source": [
    "# Reto de fin de semana\n",
    "\n",
    "## Enunciado\n",
    "\n",
    "**Parte 1.** Crea una función que imprima por pantalla las horas, minutos y segundos de un tiempo dado en segundos.\n",
    "\n",
    "**Parte 2.** Crea la función contraria, indicándole el número de horas, minutos y segundos y muestre el total de segundos\n"
   ]
  },
  {
   "cell_type": "markdown",
   "metadata": {},
   "source": [
    "## Ayuda a la implementación\n",
    "\n",
    "Recuerda que un minuto tiene 60 segundos, una hora tiene 60 minutos o lo que es lo mismo 3600 segundos.\n",
    "\n",
    "El resultado puedes devolverlo así.\n",
    "\n",
    "```\n",
    "return horas, minutos, segundos\n",
    "```"
   ]
  },
  {
   "cell_type": "markdown",
   "metadata": {},
   "source": [
    "# Datos de prueba\n",
    "Un ejemplo de cambio de segundos a horas:minutos y segundos:\n",
    "3761 -> 1:2:41\n",
    "Un ejemplo del cambio contrario:\n",
    "3:10:56 -> 11456"
   ]
  },
  {
   "cell_type": "code",
   "execution_count": 13,
   "metadata": {},
   "outputs": [
    {
     "name": "stdout",
     "output_type": "stream",
     "text": [
      "El resultado es: 51 horas, 30 minutos, 45 segundos\n"
     ]
    }
   ],
   "source": [
    "\n",
    "\n",
    "def calcular_tiempo(horas, minutos, segundos):\n",
    "    # Convertir todo a segundos\n",
    "    total_segundos = horas * 3600 + minutos * 60 + segundos\n",
    "\n",
    "    # Calcular horas, minutos y segundos\n",
    "    horas_resultantes = total_segundos // 3600\n",
    "    minutos_resultantes = (total_segundos % 3600) // 60\n",
    "    segundos_resultantes = total_segundos % 60\n",
    "\n",
    "    # Retornar el resultado en formato de tiempo\n",
    "    return f\"{horas_resultantes} horas, {minutos_resultantes} minutos, {segundos_resultantes} segundos\"\n",
    "\n",
    "# Ejemplo de uso:\n",
    "horas = 51\n",
    "minutos = 30\n",
    "segundos = 45\n",
    "resultado = calcular_tiempo(horas, minutos, segundos)\n",
    "print(\"El resultado es:\", resultado)\n",
    "\n"
   ]
  }
 ],
 "metadata": {
  "kernelspec": {
   "display_name": "Python 3",
   "language": "python",
   "name": "python3"
  },
  "language_info": {
   "codemirror_mode": {
    "name": "ipython",
    "version": 3
   },
   "file_extension": ".py",
   "mimetype": "text/x-python",
   "name": "python",
   "nbconvert_exporter": "python",
   "pygments_lexer": "ipython3",
   "version": "3.12.2"
  }
 },
 "nbformat": 4,
 "nbformat_minor": 2
}
