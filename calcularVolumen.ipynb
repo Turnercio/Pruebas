{
 "cells": [
  {
   "cell_type": "code",
   "execution_count": 1,
   "metadata": {},
   "outputs": [
    {
     "data": {
      "text/plain": [
       "24"
      ]
     },
     "execution_count": 1,
     "metadata": {},
     "output_type": "execute_result"
    }
   ],
   "source": [
    "\n",
    "#Funcion\n",
    "\n",
    "def CalcularVolumen(base, altura, prof):\n",
    "    \"\"\"\n",
    "    Calculo para conseguir el volumen\n",
    "    \"\"\"\n",
    "\n",
    "    f = (base * altura * prof) \n",
    "    return f\n",
    "\n",
    "\n",
    "#aqui se definen las variables que se van a utilizar en la formula matematica\n",
    "base1 = int(input(\"Introduce un valor para la base \"))\n",
    "altura1 = int(input(\"Introduce un valor para la altura \"))\n",
    "prof1= int(input(\"Introduce un valor para la profundidad \"))\n",
    "\n",
    "#Aqui se llama a la funcion utilizando las variables que hemos introducido para la formula matematica\n",
    "CalcularVolumen(base1, altura1, prof1)"
   ]
  }
 ],
 "metadata": {
  "kernelspec": {
   "display_name": "Python 3",
   "language": "python",
   "name": "python3"
  },
  "language_info": {
   "codemirror_mode": {
    "name": "ipython",
    "version": 3
   },
   "file_extension": ".py",
   "mimetype": "text/x-python",
   "name": "python",
   "nbconvert_exporter": "python",
   "pygments_lexer": "ipython3",
   "version": "3.12.2"
  }
 },
 "nbformat": 4,
 "nbformat_minor": 2
}
