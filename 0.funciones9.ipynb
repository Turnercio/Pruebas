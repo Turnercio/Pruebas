{
 "cells": [
  {
   "cell_type": "markdown",
   "metadata": {},
   "source": [
    "# 🛎️ Funciones y Abstracción de Función\n",
    "\n",
    "\n",
    "Las *variables* permiten reutilizar un valor.\n",
    "\n",
    "> Las funciones permiten reutilizar una expresión\n",
    "\n",
    "\n",
    "## Definir una función\n",
    "\n",
    "\n",
    "Ejemplo de función que sirve para convertir celsius a fahrenheit\n",
    "\n",
    "![](sample_function.png)\n"
   ]
  },
  {
   "cell_type": "code",
   "execution_count": 3,
   "metadata": {},
   "outputs": [
    {
     "name": "stdout",
     "output_type": "stream",
     "text": [
      "68.0\n"
     ]
    }
   ],
   "source": [
    "# Código\n",
    "def celsius_to_fahrenheit(celsius): # celsius es una variable\n",
    "    \"\"\"\n",
    "    Converts celsius to fahren\n",
    "    \"\"\"\n",
    "    f = (celsius * 9/5) + 32\n",
    "    return f\n",
    "\n",
    "# Ejemplos / pruebas\n",
    "cels = 20\n",
    "\n",
    "result = celsius_to_fahrenheit(cels) # celsius = cels = 20\n",
    "print(result)\n",
    "\n",
    "# Otra forma de llamar a la función\n",
    "#print(celsius_to_fahrenheit(cels))\n",
    "\n",
    "\n",
    "# Se puede llamar a la función en diferentes contextos\n",
    "#celsius_to_fahrenheit(20)\n",
    "#celsius_to_fahrenheit(100)"
   ]
  },
  {
   "cell_type": "markdown",
   "metadata": {},
   "source": [
    "Veamos cada uno de los elementos:\n",
    "\n",
    "\n",
    "\n",
    "![](sample_function_2.png)\n",
    "\n",
    "\n",
    "\n",
    "### def\n",
    "\n",
    "Es una palabra clave de Python que sirve para indicar que lo que viene después es la definición de una función. Al ser parte del lenguaje, no puedes usar ese nombre para tus cosas:\n",
    "\n",
    "* no puedes crear una variable llamada `def`\n",
    "* no puedes crear una función llamada `def`.\n",
    "\n",
    "Se dice que es una *palabra reservada* para Python. Hay otras más que ya conoceremos.\n",
    "\n",
    "\n",
    "### Nombre de la función\n",
    "\n",
    "Las mismas reglas que se aplicaban a los nombres de variables, se aplican a los nombres de la funciones.El nombre debería ser claro y explicar qué hace dicha función. \n",
    "\n",
    "> Ve acostumbrándote a poner los nombres (variables, funciones y lo que sea) en Inglés\n",
    "\n",
    "### Parámetros\n",
    "\n",
    "Puede ser 0 (poco común), 1 o varios parámetros, también llamados argumentos.\n",
    "\n",
    "* Son *variables* que sólo valen dentro de la función. \n",
    "* Desde fuera **nadie** los ve.\n",
    "\n",
    "**Función sin parámetros** (poco común y poco útil)\n",
    "```python\n",
    "    def f():\n",
    "        return 42\n",
    "```\n",
    "\n",
    "**Función con varios parámetros** (van separados por comas)\n",
    "```python\n",
    "def add(a,b):\n",
    "    return a + b\n",
    "```\n",
    "\n",
    "\n",
    "### Documentación de la función\n",
    "\n",
    "Es opcional pero de muy buen gusto. Se trata de una `cadena de texto` con comillas triples (para poder meter varias lineas) que explica lo que hace la función. \n",
    "\n",
    "> Documenta siempre tu código\n",
    "\n",
    "### Cuerpo de la función\n",
    "\n",
    "Es la expresión que queremos reaprovehcar, en la cual *inyectamos* algunas variables con el *valor* que queramos usar: es decir, los parámetros.\n",
    "\n",
    "Puede tener varias lineas y varias expresiones, pero la más importante es la final, la que viene después del `return`\n",
    "\n",
    "#### `return`\n",
    "\n",
    "Es otra palabra clave o reservada de Python. La función *devuelve* el valor de la expresión inmediatamente después del return.\n",
    "\n",
    "* `return 1` -> Python simplifica la expresión `1`, y se devuelve el valor (`1`)\n",
    "* `return 4 + 6 / 2` -> Python simplifica la expresión `4 + 6 / 2` y devuelve el valor resultante (`7`)\n",
    "  \n",
    "  \n",
    "> Si hay código después de un return, Python ni lo mira.\n",
    "\n",
    "\n",
    "## Uso de las funciones\n",
    "\n",
    "Para usar una función, se dice que tenemos que *llamarla*. Esto se hace escribiendo su nombre, seguido de los parámetros entre paréntesis.\n",
    "\n",
    "Si tenemos la siguiente función que suma dos parámetros, la usaríamos de la siguiente manera:"
   ]
  },
  {
   "cell_type": "code",
   "execution_count": null,
   "metadata": {},
   "outputs": [],
   "source": [
    "def add(a,b):\n",
    "    return a+b\n",
    "\n",
    "add(1,2)"
   ]
  },
  {
   "cell_type": "markdown",
   "metadata": {},
   "source": [
    "## 🛎️ 🧢 Ejercício: Funciones y Operadores\n",
    "\n",
    "1. ¿En qué se parecen los operadores y las funciones?\n",
    "2. ¿En qué se distinguen?"
   ]
  },
  {
   "cell_type": "markdown",
   "metadata": {},
   "source": [
    "\n",
    "\n",
    "# Antes del Laboratorio \n",
    "\n",
    "> Abstración de Variable: Una variable me permite reaprovechar un dato\n",
    "\n",
    "> Abstración de Función: Una función me permite reaprovechar una expresión\n",
    "\n",
    "\n",
    "**Ya sabes el 90% de todo lo que necesitas para programar**\n",
    "\n",
    "No es coña."
   ]
  },
  {
   "cell_type": "markdown",
   "metadata": {},
   "source": [
    "> a los labs "
   ]
  }
 ],
 "metadata": {
  "kernelspec": {
   "display_name": "Python 3 (ipykernel)",
   "language": "python",
   "name": "python3"
  },
  "language_info": {
   "codemirror_mode": {
    "name": "ipython",
    "version": 3
   },
   "file_extension": ".py",
   "mimetype": "text/x-python",
   "name": "python",
   "nbconvert_exporter": "python",
   "pygments_lexer": "ipython3",
   "version": "3.9.6"
  }
 },
 "nbformat": 4,
 "nbformat_minor": 4
}
